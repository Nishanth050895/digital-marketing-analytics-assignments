{
 "cells": [
  {
   "cell_type": "code",
   "execution_count": 0,
   "metadata": {
    "colab": {},
    "colab_type": "code",
    "id": "9npeDcNZasY8"
   },
   "outputs": [],
   "source": [
    "###INFO7374: Digital Marketing Analytics:\n",
    "###LAB: AWS Mobile Gaming Analytics Pipeline\n",
    "###Date: 06/28/2019\n",
    "###Instructor: Prof. Srikanth Krishnamurthy\n",
    "###TA: Mr. Pramod Nagare and Mr. Syed Haroon"
   ]
  },
  {
   "cell_type": "code",
   "execution_count": 0,
   "metadata": {
    "colab": {},
    "colab_type": "code",
    "id": "FDNxLvBVasZE"
   },
   "outputs": [],
   "source": [
    "# Architectural Components:\n",
    "# S3 Bucket: https://aws.amazon.com/s3/\n",
    "# Kinesis Data Stream: https://aws.amazon.com/kinesis/data-streams/\n",
    "# Kinesis Delivery Stream: https://aws.amazon.com/kinesis/data-firehose/\n",
    "# Redshift Cluster: https://aws.amazon.com/redshift/\n",
    "# IAM Policy: https://aws.amazon.com/iam/\n",
    "# IAM Role: https://aws.amazon.com/iam/"
   ]
  },
  {
   "cell_type": "markdown",
   "metadata": {
    "colab_type": "text",
    "id": "qn515qyYasZI"
   },
   "source": [
    "<img src=\"AWS_GAP_Architecture_New.jpg\">"
   ]
  },
  {
   "cell_type": "code",
   "execution_count": 1,
   "metadata": {
    "colab": {},
    "colab_type": "code",
    "id": "rSDSbmswasZJ"
   },
   "outputs": [],
   "source": [
    "#Importing all required libraries:\n",
    "#pip install boto3\n",
    "#pip install psycopg2\n",
    "\n",
    "import boto3\n",
    "import json\n",
    "import psycopg2\n",
    "import datetime"
   ]
  },
  {
   "cell_type": "code",
   "execution_count": 2,
   "metadata": {
    "colab": {},
    "colab_type": "code",
    "id": "79MsgivsasZM"
   },
   "outputs": [],
   "source": [
    "#Setting up the AWS Access keys:\n",
    "#NOTE: DO NOT EXPOSE THE ACCESS & SECRET KEYS\n",
    "\n",
    "config_file = open(r'Config.json')\n",
    "config_file = json.loads(config_file.read())\n",
    "\n",
    "access_key = config_file['access_key']\n",
    "secret_access_key = config_file['secret_access_key']\n"
   ]
  },
  {
   "cell_type": "code",
   "execution_count": 87,
   "metadata": {
    "colab": {},
    "colab_type": "code",
    "id": "TqQqt0nqasZP"
   },
   "outputs": [],
   "source": [
    "#Configuration Parameters:\n",
    "\n",
    "bucket_name = \"info7374s3alyceteam4\"#------------------------------------S3: Name of the creating AWS S3 Bucket\n",
    "\n",
    "policy_name = \"info7374policyalyceteam4\"#----------------------------------IAM: Access policy name\n",
    "iam_role_name = \"info7374rolealyceteam4\"#----------------------------------IAM: IAM Role for the architecural access\n",
    "\n",
    "db_name = \"info7374dbalyceteam4\"#-------------------------------------Redshift: Database Name for gaming data\n",
    "cluster_identifier = \"info7374clusteralyceteam4\"#---------------------Redshift: Redshift Cluster Name\n",
    "master_username = \"root\"#----------------------------------------Redshift: Admin Username\n",
    "master_password = \"Info7374gap\"#---------------------------------Redshift: Admin Password\n",
    "node_type = \"dc2.large\"#-----------------------------------------Redshift: Cluster configuration\n",
    "cluster_type = \"single-node\"#------------------------------------Redshift: Cluster Type\n",
    "availability_zone = \"us-east-1a\"#--------------------------------Redshift: Cluster Availability Zone\n",
    "#------------------------------------Redshift: Database table name\n",
    "kinesis_data_stream_name = \"info7374datastreamalyceteam4\"#-------------Kinesis: Data Stream Name\n",
    "shard_count = 100#------------------------------------------------Kinesis: Data Stream Shard Count\n",
    "\n",
    "log_group_name = \"info7374loggroupalyceteam4\"#------------------------CloudWatch: Log Group Name\n",
    "log_stream_name = \"info7374logstreamalyceteam4\"#------------------------CloudWatch: Log Group Name\n",
    "delivery_stream_name = \"info7374deliverystreamalyceteam4\"#--------------Kinesis: Delivery Stream Name\n",
    "stream_type = \"KinesisStreamAsSource\"#-----------------------------Kinesis: Delivery Stream Type\n"
   ]
  },
  {
   "cell_type": "code",
   "execution_count": 88,
   "metadata": {
    "colab": {},
    "colab_type": "code",
    "id": "kbdIldnaasZR"
   },
   "outputs": [
    {
     "name": "stdout",
     "output_type": "stream",
     "text": [
      "{'ResponseMetadata': {'RequestId': 'AD76F0F08BBE823A', 'HostId': 'WLaH59AgmlejFhAITpJ/SqDQIRKstKubuAxbBTzoNceku994JJRdbhPzQDY/zc2q9+5dzqQTMEM=', 'HTTPStatusCode': 200, 'HTTPHeaders': {'x-amz-id-2': 'WLaH59AgmlejFhAITpJ/SqDQIRKstKubuAxbBTzoNceku994JJRdbhPzQDY/zc2q9+5dzqQTMEM=', 'x-amz-request-id': 'AD76F0F08BBE823A', 'date': 'Fri, 12 Jul 2019 03:59:01 GMT', 'location': '/info7374s3alyceteam4', 'content-length': '0', 'server': 'AmazonS3'}, 'RetryAttempts': 0}, 'Location': '/info7374s3alyceteam4'}\n"
     ]
    }
   ],
   "source": [
    "#Creating AWS S3 Bucket:\n",
    "\n",
    "s3_client = boto3.client('s3', aws_access_key_id = access_key, aws_secret_access_key = secret_access_key)\n",
    "\n",
    "response_s3 = s3_client.create_bucket(ACL=\"private\", Bucket=bucket_name)\n",
    "print(response_s3)"
   ]
  },
  {
   "cell_type": "code",
   "execution_count": 89,
   "metadata": {
    "colab": {},
    "colab_type": "code",
    "id": "n4M6ybhDasZU"
   },
   "outputs": [
    {
     "name": "stdout",
     "output_type": "stream",
     "text": [
      "arn:aws:s3:::info7374s3alyceteam4\n"
     ]
    }
   ],
   "source": [
    "bucket_arn = \"arn:aws:s3:::\"+bucket_name#---------------------------S3: Bucker ARN\n",
    "print(bucket_arn)"
   ]
  },
  {
   "cell_type": "code",
   "execution_count": 90,
   "metadata": {
    "colab": {},
    "colab_type": "code",
    "id": "TgcR_UDEasZW"
   },
   "outputs": [],
   "source": [
    "#Creating IAM Policy for Architecural access:\n",
    "\n",
    "iam_client = boto3.client('iam', aws_access_key_id = access_key, aws_secret_access_key = secret_access_key)\n"
   ]
  },
  {
   "cell_type": "code",
   "execution_count": 91,
   "metadata": {
    "colab": {},
    "colab_type": "code",
    "id": "urPVYJCPasZY"
   },
   "outputs": [],
   "source": [
    "\n",
    "policy_details = {\n",
    "    \"Version\": \"2012-10-17\",\n",
    "    \"Statement\": [\n",
    "        {\n",
    "            \"Sid\": \"\",\n",
    "            \"Effect\": \"Allow\",\n",
    "            \"Action\": [\n",
    "                \"glue:GetTableVersions\"\n",
    "            ],\n",
    "            \"Resource\": \"*\"\n",
    "        },\n",
    "        {\n",
    "            \"Sid\": \"\",\n",
    "            \"Effect\": \"Allow\",\n",
    "            \"Action\": [\n",
    "                \"s3:AbortMultipartUpload\",\n",
    "                \"s3:GetBucketLocation\",\n",
    "                \"s3:GetObject\",\n",
    "                \"s3:ListBucket\",\n",
    "                \"s3:ListBucketMultipartUploads\",\n",
    "                \"s3:PutObject\"\n",
    "            ],\n",
    "            \"Resource\": \"*\"\n",
    "        },\n",
    "        {\n",
    "            \"Sid\": \"\",\n",
    "            \"Effect\": \"Allow\",\n",
    "            \"Action\": [\n",
    "                \"lambda:InvokeFunction\",\n",
    "                \"lambda:GetFunctionConfiguration\"\n",
    "            ],\n",
    "            \"Resource\": \"*\"\n",
    "        },\n",
    "        {\n",
    "            \"Sid\": \"\",\n",
    "            \"Effect\": \"Allow\",\n",
    "            \"Action\": [\n",
    "                \"logs:PutLogEvents\"\n",
    "            ],\n",
    "            \"Resource\": \"*\"\n",
    "        },\n",
    "        {\n",
    "            \"Sid\": \"\",\n",
    "            \"Effect\": \"Allow\",\n",
    "            \"Action\": [\n",
    "                \"kinesis:DescribeStream\",\n",
    "                \"kinesis:GetShardIterator\",\n",
    "                \"kinesis:GetRecords\"\n",
    "            ],\n",
    "            \"Resource\": \"*\"\n",
    "        },\n",
    "        {\n",
    "            \"Effect\": \"Allow\",\n",
    "            \"Action\": [\n",
    "                \"kms:Decrypt\"\n",
    "            ],\n",
    "            \"Resource\": \"*\"\n",
    "        }\n",
    "    ]\n",
    "}"
   ]
  },
  {
   "cell_type": "code",
   "execution_count": 92,
   "metadata": {
    "colab": {},
    "colab_type": "code",
    "id": "kzCwXACVasZb"
   },
   "outputs": [
    {
     "ename": "EntityAlreadyExistsException",
     "evalue": "An error occurred (EntityAlreadyExists) when calling the CreatePolicy operation: A policy called info7374policyalyceteam4 already exists. Duplicate names are not allowed.",
     "output_type": "error",
     "traceback": [
      "\u001b[1;31m---------------------------------------------------------------------------\u001b[0m",
      "\u001b[1;31mEntityAlreadyExistsException\u001b[0m              Traceback (most recent call last)",
      "\u001b[1;32m<ipython-input-92-efad420aab68>\u001b[0m in \u001b[0;36m<module>\u001b[1;34m\u001b[0m\n\u001b[1;32m----> 1\u001b[1;33m \u001b[0mresponse_iam_policy\u001b[0m \u001b[1;33m=\u001b[0m \u001b[0miam_client\u001b[0m\u001b[1;33m.\u001b[0m\u001b[0mcreate_policy\u001b[0m\u001b[1;33m(\u001b[0m\u001b[0mPolicyName\u001b[0m\u001b[1;33m=\u001b[0m\u001b[0mpolicy_name\u001b[0m\u001b[1;33m,\u001b[0m \u001b[0mPolicyDocument\u001b[0m\u001b[1;33m=\u001b[0m\u001b[0mjson\u001b[0m\u001b[1;33m.\u001b[0m\u001b[0mdumps\u001b[0m\u001b[1;33m(\u001b[0m\u001b[0mpolicy_details\u001b[0m\u001b[1;33m)\u001b[0m\u001b[1;33m)\u001b[0m\u001b[1;33m\u001b[0m\u001b[1;33m\u001b[0m\u001b[0m\n\u001b[0m\u001b[0;32m      2\u001b[0m \u001b[0mprint\u001b[0m\u001b[1;33m(\u001b[0m\u001b[0mresponse_iam_policy\u001b[0m\u001b[1;33m)\u001b[0m\u001b[1;33m\u001b[0m\u001b[1;33m\u001b[0m\u001b[0m\n",
      "\u001b[1;32m~\\Anaconda3\\lib\\site-packages\\botocore\\client.py\u001b[0m in \u001b[0;36m_api_call\u001b[1;34m(self, *args, **kwargs)\u001b[0m\n\u001b[0;32m    355\u001b[0m                     \"%s() only accepts keyword arguments.\" % py_operation_name)\n\u001b[0;32m    356\u001b[0m             \u001b[1;31m# The \"self\" in this scope is referring to the BaseClient.\u001b[0m\u001b[1;33m\u001b[0m\u001b[1;33m\u001b[0m\u001b[1;33m\u001b[0m\u001b[0m\n\u001b[1;32m--> 357\u001b[1;33m             \u001b[1;32mreturn\u001b[0m \u001b[0mself\u001b[0m\u001b[1;33m.\u001b[0m\u001b[0m_make_api_call\u001b[0m\u001b[1;33m(\u001b[0m\u001b[0moperation_name\u001b[0m\u001b[1;33m,\u001b[0m \u001b[0mkwargs\u001b[0m\u001b[1;33m)\u001b[0m\u001b[1;33m\u001b[0m\u001b[1;33m\u001b[0m\u001b[0m\n\u001b[0m\u001b[0;32m    358\u001b[0m \u001b[1;33m\u001b[0m\u001b[0m\n\u001b[0;32m    359\u001b[0m         \u001b[0m_api_call\u001b[0m\u001b[1;33m.\u001b[0m\u001b[0m__name__\u001b[0m \u001b[1;33m=\u001b[0m \u001b[0mstr\u001b[0m\u001b[1;33m(\u001b[0m\u001b[0mpy_operation_name\u001b[0m\u001b[1;33m)\u001b[0m\u001b[1;33m\u001b[0m\u001b[1;33m\u001b[0m\u001b[0m\n",
      "\u001b[1;32m~\\Anaconda3\\lib\\site-packages\\botocore\\client.py\u001b[0m in \u001b[0;36m_make_api_call\u001b[1;34m(self, operation_name, api_params)\u001b[0m\n\u001b[0;32m    659\u001b[0m             \u001b[0merror_code\u001b[0m \u001b[1;33m=\u001b[0m \u001b[0mparsed_response\u001b[0m\u001b[1;33m.\u001b[0m\u001b[0mget\u001b[0m\u001b[1;33m(\u001b[0m\u001b[1;34m\"Error\"\u001b[0m\u001b[1;33m,\u001b[0m \u001b[1;33m{\u001b[0m\u001b[1;33m}\u001b[0m\u001b[1;33m)\u001b[0m\u001b[1;33m.\u001b[0m\u001b[0mget\u001b[0m\u001b[1;33m(\u001b[0m\u001b[1;34m\"Code\"\u001b[0m\u001b[1;33m)\u001b[0m\u001b[1;33m\u001b[0m\u001b[1;33m\u001b[0m\u001b[0m\n\u001b[0;32m    660\u001b[0m             \u001b[0merror_class\u001b[0m \u001b[1;33m=\u001b[0m \u001b[0mself\u001b[0m\u001b[1;33m.\u001b[0m\u001b[0mexceptions\u001b[0m\u001b[1;33m.\u001b[0m\u001b[0mfrom_code\u001b[0m\u001b[1;33m(\u001b[0m\u001b[0merror_code\u001b[0m\u001b[1;33m)\u001b[0m\u001b[1;33m\u001b[0m\u001b[1;33m\u001b[0m\u001b[0m\n\u001b[1;32m--> 661\u001b[1;33m             \u001b[1;32mraise\u001b[0m \u001b[0merror_class\u001b[0m\u001b[1;33m(\u001b[0m\u001b[0mparsed_response\u001b[0m\u001b[1;33m,\u001b[0m \u001b[0moperation_name\u001b[0m\u001b[1;33m)\u001b[0m\u001b[1;33m\u001b[0m\u001b[1;33m\u001b[0m\u001b[0m\n\u001b[0m\u001b[0;32m    662\u001b[0m         \u001b[1;32melse\u001b[0m\u001b[1;33m:\u001b[0m\u001b[1;33m\u001b[0m\u001b[1;33m\u001b[0m\u001b[0m\n\u001b[0;32m    663\u001b[0m             \u001b[1;32mreturn\u001b[0m \u001b[0mparsed_response\u001b[0m\u001b[1;33m\u001b[0m\u001b[1;33m\u001b[0m\u001b[0m\n",
      "\u001b[1;31mEntityAlreadyExistsException\u001b[0m: An error occurred (EntityAlreadyExists) when calling the CreatePolicy operation: A policy called info7374policyalyceteam4 already exists. Duplicate names are not allowed."
     ]
    }
   ],
   "source": [
    "response_iam_policy = iam_client.create_policy(PolicyName=policy_name, PolicyDocument=json.dumps(policy_details))\n",
    "print(response_iam_policy)"
   ]
  },
  {
   "cell_type": "code",
   "execution_count": 93,
   "metadata": {
    "colab": {},
    "colab_type": "code",
    "id": "qQQjMyNAasZe"
   },
   "outputs": [
    {
     "name": "stdout",
     "output_type": "stream",
     "text": [
      "arn:aws:iam::730681287143:policy/info7374policyalyceteam4\n"
     ]
    }
   ],
   "source": [
    "policy_arn = response_iam_policy['Policy']['Arn']#------------------------IAM: Policy ID for assignment\n",
    "print(policy_arn)"
   ]
  },
  {
   "cell_type": "code",
   "execution_count": 0,
   "metadata": {
    "colab": {},
    "colab_type": "code",
    "id": "UfkQR9CpasZh"
   },
   "outputs": [],
   "source": []
  },
  {
   "cell_type": "code",
   "execution_count": 94,
   "metadata": {
    "colab": {},
    "colab_type": "code",
    "id": "VYgfJyQxasZj"
   },
   "outputs": [
    {
     "ename": "EntityAlreadyExistsException",
     "evalue": "An error occurred (EntityAlreadyExists) when calling the CreateRole operation: Role with name info7374rolealyceteam4 already exists.",
     "output_type": "error",
     "traceback": [
      "\u001b[1;31m---------------------------------------------------------------------------\u001b[0m",
      "\u001b[1;31mEntityAlreadyExistsException\u001b[0m              Traceback (most recent call last)",
      "\u001b[1;32m<ipython-input-94-e2077a49d091>\u001b[0m in \u001b[0;36m<module>\u001b[1;34m\u001b[0m\n\u001b[0;32m     20\u001b[0m }\n\u001b[0;32m     21\u001b[0m \u001b[1;33m\u001b[0m\u001b[0m\n\u001b[1;32m---> 22\u001b[1;33m \u001b[0mresponse_iam_role\u001b[0m \u001b[1;33m=\u001b[0m \u001b[0miam_client\u001b[0m\u001b[1;33m.\u001b[0m\u001b[0mcreate_role\u001b[0m\u001b[1;33m(\u001b[0m\u001b[0mRoleName\u001b[0m\u001b[1;33m=\u001b[0m\u001b[0miam_role_name\u001b[0m\u001b[1;33m,\u001b[0m \u001b[0mAssumeRolePolicyDocument\u001b[0m\u001b[1;33m=\u001b[0m\u001b[0mjson\u001b[0m\u001b[1;33m.\u001b[0m\u001b[0mdumps\u001b[0m\u001b[1;33m(\u001b[0m\u001b[0massume_role_policy_doc\u001b[0m\u001b[1;33m)\u001b[0m\u001b[1;33m)\u001b[0m\u001b[1;33m\u001b[0m\u001b[1;33m\u001b[0m\u001b[0m\n\u001b[0m\u001b[0;32m     23\u001b[0m \u001b[1;33m\u001b[0m\u001b[0m\n\u001b[0;32m     24\u001b[0m \u001b[0mprint\u001b[0m\u001b[1;33m(\u001b[0m\u001b[0mresponse_iam_role\u001b[0m\u001b[1;33m)\u001b[0m\u001b[1;33m\u001b[0m\u001b[1;33m\u001b[0m\u001b[0m\n",
      "\u001b[1;32m~\\Anaconda3\\lib\\site-packages\\botocore\\client.py\u001b[0m in \u001b[0;36m_api_call\u001b[1;34m(self, *args, **kwargs)\u001b[0m\n\u001b[0;32m    355\u001b[0m                     \"%s() only accepts keyword arguments.\" % py_operation_name)\n\u001b[0;32m    356\u001b[0m             \u001b[1;31m# The \"self\" in this scope is referring to the BaseClient.\u001b[0m\u001b[1;33m\u001b[0m\u001b[1;33m\u001b[0m\u001b[1;33m\u001b[0m\u001b[0m\n\u001b[1;32m--> 357\u001b[1;33m             \u001b[1;32mreturn\u001b[0m \u001b[0mself\u001b[0m\u001b[1;33m.\u001b[0m\u001b[0m_make_api_call\u001b[0m\u001b[1;33m(\u001b[0m\u001b[0moperation_name\u001b[0m\u001b[1;33m,\u001b[0m \u001b[0mkwargs\u001b[0m\u001b[1;33m)\u001b[0m\u001b[1;33m\u001b[0m\u001b[1;33m\u001b[0m\u001b[0m\n\u001b[0m\u001b[0;32m    358\u001b[0m \u001b[1;33m\u001b[0m\u001b[0m\n\u001b[0;32m    359\u001b[0m         \u001b[0m_api_call\u001b[0m\u001b[1;33m.\u001b[0m\u001b[0m__name__\u001b[0m \u001b[1;33m=\u001b[0m \u001b[0mstr\u001b[0m\u001b[1;33m(\u001b[0m\u001b[0mpy_operation_name\u001b[0m\u001b[1;33m)\u001b[0m\u001b[1;33m\u001b[0m\u001b[1;33m\u001b[0m\u001b[0m\n",
      "\u001b[1;32m~\\Anaconda3\\lib\\site-packages\\botocore\\client.py\u001b[0m in \u001b[0;36m_make_api_call\u001b[1;34m(self, operation_name, api_params)\u001b[0m\n\u001b[0;32m    659\u001b[0m             \u001b[0merror_code\u001b[0m \u001b[1;33m=\u001b[0m \u001b[0mparsed_response\u001b[0m\u001b[1;33m.\u001b[0m\u001b[0mget\u001b[0m\u001b[1;33m(\u001b[0m\u001b[1;34m\"Error\"\u001b[0m\u001b[1;33m,\u001b[0m \u001b[1;33m{\u001b[0m\u001b[1;33m}\u001b[0m\u001b[1;33m)\u001b[0m\u001b[1;33m.\u001b[0m\u001b[0mget\u001b[0m\u001b[1;33m(\u001b[0m\u001b[1;34m\"Code\"\u001b[0m\u001b[1;33m)\u001b[0m\u001b[1;33m\u001b[0m\u001b[1;33m\u001b[0m\u001b[0m\n\u001b[0;32m    660\u001b[0m             \u001b[0merror_class\u001b[0m \u001b[1;33m=\u001b[0m \u001b[0mself\u001b[0m\u001b[1;33m.\u001b[0m\u001b[0mexceptions\u001b[0m\u001b[1;33m.\u001b[0m\u001b[0mfrom_code\u001b[0m\u001b[1;33m(\u001b[0m\u001b[0merror_code\u001b[0m\u001b[1;33m)\u001b[0m\u001b[1;33m\u001b[0m\u001b[1;33m\u001b[0m\u001b[0m\n\u001b[1;32m--> 661\u001b[1;33m             \u001b[1;32mraise\u001b[0m \u001b[0merror_class\u001b[0m\u001b[1;33m(\u001b[0m\u001b[0mparsed_response\u001b[0m\u001b[1;33m,\u001b[0m \u001b[0moperation_name\u001b[0m\u001b[1;33m)\u001b[0m\u001b[1;33m\u001b[0m\u001b[1;33m\u001b[0m\u001b[0m\n\u001b[0m\u001b[0;32m    662\u001b[0m         \u001b[1;32melse\u001b[0m\u001b[1;33m:\u001b[0m\u001b[1;33m\u001b[0m\u001b[1;33m\u001b[0m\u001b[0m\n\u001b[0;32m    663\u001b[0m             \u001b[1;32mreturn\u001b[0m \u001b[0mparsed_response\u001b[0m\u001b[1;33m\u001b[0m\u001b[1;33m\u001b[0m\u001b[0m\n",
      "\u001b[1;31mEntityAlreadyExistsException\u001b[0m: An error occurred (EntityAlreadyExists) when calling the CreateRole operation: Role with name info7374rolealyceteam4 already exists."
     ]
    }
   ],
   "source": [
    "#Creating IAM Role for Architectural access:\n",
    "\n",
    "assume_role_policy_doc = {\n",
    "  \"Version\": \"2012-10-17\",\n",
    "  \"Statement\": [\n",
    "    {\n",
    "      \"Sid\": \"\",\n",
    "      \"Effect\": \"Allow\",\n",
    "      \"Principal\": {\n",
    "        \"Service\": \"firehose.amazonaws.com\"\n",
    "      },\n",
    "      \"Action\": \"sts:AssumeRole\",\n",
    "      \"Condition\": {\n",
    "        \"StringEquals\": {\n",
    "          \"sts:ExternalId\": \"730681287143\"\n",
    "        }\n",
    "      }\n",
    "    }\n",
    "  ]\n",
    "}\n",
    "\n",
    "response_iam_role = iam_client.create_role(RoleName=iam_role_name, AssumeRolePolicyDocument=json.dumps(assume_role_policy_doc))\n",
    "\n",
    "print(response_iam_role)"
   ]
  },
  {
   "cell_type": "code",
   "execution_count": 95,
   "metadata": {
    "colab": {},
    "colab_type": "code",
    "id": "PjtT6nWXasZl"
   },
   "outputs": [
    {
     "data": {
      "text/plain": [
       "'arn:aws:iam::730681287143:role/info7374rolealyceteam4'"
      ]
     },
     "execution_count": 95,
     "metadata": {},
     "output_type": "execute_result"
    }
   ],
   "source": [
    "role_arn = response_iam_role['Role']['Arn']#----------------------------IAM: Role ARN\n",
    "role_arn"
   ]
  },
  {
   "cell_type": "code",
   "execution_count": 96,
   "metadata": {
    "colab": {},
    "colab_type": "code",
    "id": "S1kA4WasasZo"
   },
   "outputs": [
    {
     "name": "stdout",
     "output_type": "stream",
     "text": [
      "{'ResponseMetadata': {'RequestId': '7f83cf34-a459-11e9-b6d5-9fbc25767c03', 'HTTPStatusCode': 200, 'HTTPHeaders': {'x-amzn-requestid': '7f83cf34-a459-11e9-b6d5-9fbc25767c03', 'content-type': 'text/xml', 'content-length': '212', 'date': 'Fri, 12 Jul 2019 03:59:50 GMT'}, 'RetryAttempts': 0}}\n"
     ]
    }
   ],
   "source": [
    "#Attaching a Policy to a Role:\n",
    "\n",
    "response_iam_role_policy_attach = iam_client.attach_role_policy(PolicyArn=policy_arn,RoleName=iam_role_name)\n",
    "print(response_iam_role_policy_attach)"
   ]
  },
  {
   "cell_type": "code",
   "execution_count": null,
   "metadata": {
    "colab": {},
    "colab_type": "code",
    "id": "9kJlT7LWasZp"
   },
   "outputs": [],
   "source": []
  },
  {
   "cell_type": "code",
   "execution_count": 83,
   "metadata": {
    "colab": {},
    "colab_type": "code",
    "id": "Qj_i92g7asZr"
   },
   "outputs": [
    {
     "ename": "ClusterAlreadyExistsFault",
     "evalue": "An error occurred (ClusterAlreadyExists) when calling the CreateCluster operation: Cluster already exists",
     "output_type": "error",
     "traceback": [
      "\u001b[1;31m---------------------------------------------------------------------------\u001b[0m",
      "\u001b[1;31mClusterAlreadyExistsFault\u001b[0m                 Traceback (most recent call last)",
      "\u001b[1;32m<ipython-input-83-06d724899350>\u001b[0m in \u001b[0;36m<module>\u001b[1;34m\u001b[0m\n\u001b[0;32m     12\u001b[0m     \u001b[0mAvailabilityZone\u001b[0m\u001b[1;33m=\u001b[0m\u001b[0mavailability_zone\u001b[0m\u001b[1;33m,\u001b[0m\u001b[1;33m\u001b[0m\u001b[1;33m\u001b[0m\u001b[0m\n\u001b[0;32m     13\u001b[0m     \u001b[0mIamRoles\u001b[0m\u001b[1;33m=\u001b[0m\u001b[1;33m[\u001b[0m\u001b[0mrole_arn\u001b[0m\u001b[1;33m]\u001b[0m\u001b[1;33m,\u001b[0m\u001b[1;33m\u001b[0m\u001b[1;33m\u001b[0m\u001b[0m\n\u001b[1;32m---> 14\u001b[1;33m     PubliclyAccessible=True)\n\u001b[0m\u001b[0;32m     15\u001b[0m \u001b[1;33m\u001b[0m\u001b[0m\n\u001b[0;32m     16\u001b[0m \u001b[0mprint\u001b[0m\u001b[1;33m(\u001b[0m\u001b[0mresponse_redshift\u001b[0m\u001b[1;33m)\u001b[0m\u001b[1;33m\u001b[0m\u001b[1;33m\u001b[0m\u001b[0m\n",
      "\u001b[1;32m~\\Anaconda3\\lib\\site-packages\\botocore\\client.py\u001b[0m in \u001b[0;36m_api_call\u001b[1;34m(self, *args, **kwargs)\u001b[0m\n\u001b[0;32m    355\u001b[0m                     \"%s() only accepts keyword arguments.\" % py_operation_name)\n\u001b[0;32m    356\u001b[0m             \u001b[1;31m# The \"self\" in this scope is referring to the BaseClient.\u001b[0m\u001b[1;33m\u001b[0m\u001b[1;33m\u001b[0m\u001b[1;33m\u001b[0m\u001b[0m\n\u001b[1;32m--> 357\u001b[1;33m             \u001b[1;32mreturn\u001b[0m \u001b[0mself\u001b[0m\u001b[1;33m.\u001b[0m\u001b[0m_make_api_call\u001b[0m\u001b[1;33m(\u001b[0m\u001b[0moperation_name\u001b[0m\u001b[1;33m,\u001b[0m \u001b[0mkwargs\u001b[0m\u001b[1;33m)\u001b[0m\u001b[1;33m\u001b[0m\u001b[1;33m\u001b[0m\u001b[0m\n\u001b[0m\u001b[0;32m    358\u001b[0m \u001b[1;33m\u001b[0m\u001b[0m\n\u001b[0;32m    359\u001b[0m         \u001b[0m_api_call\u001b[0m\u001b[1;33m.\u001b[0m\u001b[0m__name__\u001b[0m \u001b[1;33m=\u001b[0m \u001b[0mstr\u001b[0m\u001b[1;33m(\u001b[0m\u001b[0mpy_operation_name\u001b[0m\u001b[1;33m)\u001b[0m\u001b[1;33m\u001b[0m\u001b[1;33m\u001b[0m\u001b[0m\n",
      "\u001b[1;32m~\\Anaconda3\\lib\\site-packages\\botocore\\client.py\u001b[0m in \u001b[0;36m_make_api_call\u001b[1;34m(self, operation_name, api_params)\u001b[0m\n\u001b[0;32m    659\u001b[0m             \u001b[0merror_code\u001b[0m \u001b[1;33m=\u001b[0m \u001b[0mparsed_response\u001b[0m\u001b[1;33m.\u001b[0m\u001b[0mget\u001b[0m\u001b[1;33m(\u001b[0m\u001b[1;34m\"Error\"\u001b[0m\u001b[1;33m,\u001b[0m \u001b[1;33m{\u001b[0m\u001b[1;33m}\u001b[0m\u001b[1;33m)\u001b[0m\u001b[1;33m.\u001b[0m\u001b[0mget\u001b[0m\u001b[1;33m(\u001b[0m\u001b[1;34m\"Code\"\u001b[0m\u001b[1;33m)\u001b[0m\u001b[1;33m\u001b[0m\u001b[1;33m\u001b[0m\u001b[0m\n\u001b[0;32m    660\u001b[0m             \u001b[0merror_class\u001b[0m \u001b[1;33m=\u001b[0m \u001b[0mself\u001b[0m\u001b[1;33m.\u001b[0m\u001b[0mexceptions\u001b[0m\u001b[1;33m.\u001b[0m\u001b[0mfrom_code\u001b[0m\u001b[1;33m(\u001b[0m\u001b[0merror_code\u001b[0m\u001b[1;33m)\u001b[0m\u001b[1;33m\u001b[0m\u001b[1;33m\u001b[0m\u001b[0m\n\u001b[1;32m--> 661\u001b[1;33m             \u001b[1;32mraise\u001b[0m \u001b[0merror_class\u001b[0m\u001b[1;33m(\u001b[0m\u001b[0mparsed_response\u001b[0m\u001b[1;33m,\u001b[0m \u001b[0moperation_name\u001b[0m\u001b[1;33m)\u001b[0m\u001b[1;33m\u001b[0m\u001b[1;33m\u001b[0m\u001b[0m\n\u001b[0m\u001b[0;32m    662\u001b[0m         \u001b[1;32melse\u001b[0m\u001b[1;33m:\u001b[0m\u001b[1;33m\u001b[0m\u001b[1;33m\u001b[0m\u001b[0m\n\u001b[0;32m    663\u001b[0m             \u001b[1;32mreturn\u001b[0m \u001b[0mparsed_response\u001b[0m\u001b[1;33m\u001b[0m\u001b[1;33m\u001b[0m\u001b[0m\n",
      "\u001b[1;31mClusterAlreadyExistsFault\u001b[0m: An error occurred (ClusterAlreadyExists) when calling the CreateCluster operation: Cluster already exists"
     ]
    }
   ],
   "source": [
    "#Creating AWS Redshift Cluster:\n",
    "\n",
    "redshift_client = boto3.client('redshift',region_name='us-east-1', aws_access_key_id = access_key, aws_secret_access_key = secret_access_key)\n",
    "\n",
    "response_redshift = redshift_client.create_cluster(\n",
    "    DBName=db_name,\n",
    "    ClusterIdentifier=cluster_identifier,\n",
    "    ClusterType=cluster_type,\n",
    "    NodeType=node_type,\n",
    "    MasterUsername=master_username,\n",
    "    MasterUserPassword=master_password,\n",
    "    AvailabilityZone=availability_zone,\n",
    "    IamRoles=[role_arn],\n",
    "    PubliclyAccessible=True)\n",
    "\n",
    "print(response_redshift)"
   ]
  },
  {
   "cell_type": "code",
   "execution_count": 0,
   "metadata": {
    "colab": {},
    "colab_type": "code",
    "id": "15SddSDgasZt"
   },
   "outputs": [],
   "source": [
    "#Note: Wait for 5 min to get AWS Redshift cluster to setup as we need to create a Database table."
   ]
  },
  {
   "cell_type": "code",
   "execution_count": 0,
   "metadata": {
    "colab": {},
    "colab_type": "code",
    "id": "NGK9aK6tasZv"
   },
   "outputs": [],
   "source": []
  },
  {
   "cell_type": "code",
   "execution_count": 41,
   "metadata": {
    "colab": {},
    "colab_type": "code",
    "id": "qrxbSps1asZx"
   },
   "outputs": [
    {
     "name": "stdout",
     "output_type": "stream",
     "text": [
      "{'Clusters': [{'ClusterIdentifier': 'info7374clusteralyceteam4', 'NodeType': 'dc2.large', 'ClusterStatus': 'available', 'ClusterAvailabilityStatus': 'Available', 'MasterUsername': 'root', 'DBName': 'info7374dbalyceteam4', 'Endpoint': {'Address': 'info7374clusteralyceteam4.cebdot7camvq.us-east-1.redshift.amazonaws.com', 'Port': 5439}, 'ClusterCreateTime': datetime.datetime(2019, 7, 11, 23, 45, 8, 731000, tzinfo=tzutc()), 'AutomatedSnapshotRetentionPeriod': 1, 'ManualSnapshotRetentionPeriod': -1, 'ClusterSecurityGroups': [], 'VpcSecurityGroups': [{'VpcSecurityGroupId': 'sg-f15e31aa', 'Status': 'active'}], 'ClusterParameterGroups': [{'ParameterGroupName': 'default.redshift-1.0', 'ParameterApplyStatus': 'in-sync'}], 'ClusterSubnetGroupName': 'default', 'VpcId': 'vpc-da6b0ba0', 'AvailabilityZone': 'us-east-1a', 'PreferredMaintenanceWindow': 'mon:09:30-mon:10:00', 'PendingModifiedValues': {}, 'ClusterVersion': '1.0', 'AllowVersionUpgrade': True, 'NumberOfNodes': 1, 'PubliclyAccessible': True, 'Encrypted': False, 'ClusterPublicKey': 'ssh-rsa AAAAB3NzaC1yc2EAAAADAQABAAABAQCTvtnUMhPP4Yyop0qVpIoZyRBAEfBNZcv5z82pKQCYYcTHdjHX7vdDUUyy5CQ8AgcZBCtaabMf0ZEBqUHW7gNrqVqlnnzZ/4pnOKtsEJC/awWoXFhn0yIaYCy458dyKqi6O3fXTUPePJQxSB7xwPxHl+IMKKgyscWhb2wFdHV7tq+D6tzilJ2YzDMnOn4CNM3mRHUTJ/fo7SfEkNEfm2SncbmYeHwvqj9N2KBYjP8YWK71SPTLnu7hgoV3N6fKu90aiN8zWmB1LAwgHfS2bnf+5t7l7d9c3xgyX6G48DezfW1GTMPlKMMv7+kRXyfFBxnL+UjCyf473zzzQHe8Ksi9 Amazon-Redshift\\n', 'ClusterNodes': [{'NodeRole': 'SHARED', 'PrivateIPAddress': '172.31.83.66', 'PublicIPAddress': '3.221.106.96'}], 'ClusterRevisionNumber': '8205', 'Tags': [], 'EnhancedVpcRouting': False, 'IamRoles': [{'IamRoleArn': 'arn:aws:iam::730681287143:role/info7374rolealyceteam4', 'ApplyStatus': 'in-sync'}], 'MaintenanceTrackName': 'current', 'DeferredMaintenanceWindows': []}], 'ResponseMetadata': {'RequestId': '4d542060-a43d-11e9-a5bd-df83e1a7c13d', 'HTTPStatusCode': 200, 'HTTPHeaders': {'x-amzn-requestid': '4d542060-a43d-11e9-a5bd-df83e1a7c13d', 'content-type': 'text/xml', 'content-length': '3240', 'vary': 'Accept-Encoding', 'date': 'Fri, 12 Jul 2019 00:38:00 GMT'}, 'RetryAttempts': 0}}\n"
     ]
    }
   ],
   "source": [
    "#Describe AWS Redshift Cluster to get an endpoint:\n",
    "\n",
    "response_redshift_desc = redshift_client.describe_clusters(ClusterIdentifier=cluster_identifier)\n",
    "print(response_redshift_desc)"
   ]
  },
  {
   "cell_type": "code",
   "execution_count": 42,
   "metadata": {
    "colab": {},
    "colab_type": "code",
    "id": "v6wiSDuQasZz"
   },
   "outputs": [
    {
     "name": "stdout",
     "output_type": "stream",
     "text": [
      "info7374clusteralyceteam4.cebdot7camvq.us-east-1.redshift.amazonaws.com\n",
      "5439\n"
     ]
    }
   ],
   "source": [
    "hostname = response_redshift_desc['Clusters'][0]['Endpoint']['Address']#----------------Redshift: Hostname for database\n",
    "port_number = response_redshift_desc['Clusters'][0]['Endpoint']['Port']#----------------Redshift: Port Number for databse\n",
    "print (hostname)\n",
    "print(port_number)\n"
   ]
  },
  {
   "cell_type": "code",
   "execution_count": 43,
   "metadata": {
    "colab": {},
    "colab_type": "code",
    "id": "oK6GgejlasZ7"
   },
   "outputs": [],
   "source": [
    "#Creating Database table on Redshift:\n",
    "\n",
    "con = psycopg2.connect(dbname= db_name, host= hostname, port= port_number, user= master_username, password= master_password)\n",
    "\n",
    "con.set_session(autocommit=True)\n",
    "cur = con.cursor()"
   ]
  },
  {
   "cell_type": "code",
   "execution_count": 33,
   "metadata": {
    "colab": {},
    "colab_type": "code",
    "id": "o101Nv5easaA"
   },
   "outputs": [
    {
     "name": "stdout",
     "output_type": "stream",
     "text": [
      "create table alyce_services(service_id integer not null,service_name varchar not null,primary key(service_id))\n"
     ]
    }
   ],
   "source": [
    "#alyce_services\n",
    "\n",
    "query = \"create table alyce_services(\\\n",
    "service_id integer not null,\\\n",
    "service_name varchar not null,\\\n",
    "primary key(service_id))\"\n",
    "print(query)\n"
   ]
  },
  {
   "cell_type": "code",
   "execution_count": 45,
   "metadata": {},
   "outputs": [
    {
     "name": "stdout",
     "output_type": "stream",
     "text": [
      "create table alyce_client(client_id integer not null,client_name varchar not null,client_sector varchar not null,client_city varchar not null,client_statecode varchar not null,client_zipcode integer not null,primary key(client_id))\n"
     ]
    }
   ],
   "source": [
    "#alyce_client\n",
    "query = \"create table alyce_client(\\\n",
    "client_id integer not null,\\\n",
    "client_name varchar not null,\\\n",
    "client_sector varchar not null,\\\n",
    "client_city varchar not null,\\\n",
    "client_statecode varchar not null,\\\n",
    "client_zipcode integer not null,\\\n",
    "primary key(client_id))\"\n",
    "print(query)\n",
    "cur.execute(query)\n"
   ]
  },
  {
   "cell_type": "code",
   "execution_count": 46,
   "metadata": {},
   "outputs": [
    {
     "name": "stdout",
     "output_type": "stream",
     "text": [
      "create table alyce_recipient(recipient_id integer not null,recipient_name varchar,recipient_sector varchar,recipient_city varchar,recipient_statecode varchar,recipient_zipcode integer,primary key(recipient_id))\n"
     ]
    }
   ],
   "source": [
    "#alyce_recipient\n",
    "query=\"create table alyce_recipient(\\\n",
    "recipient_id integer not null,\\\n",
    "recipient_name varchar,\\\n",
    "recipient_sector varchar,\\\n",
    "recipient_city varchar,\\\n",
    "recipient_statecode varchar,\\\n",
    "recipient_zipcode integer,\\\n",
    "primary key(recipient_id))\"\n",
    "print(query)\n",
    "cur.execute(query)"
   ]
  },
  {
   "cell_type": "code",
   "execution_count": 47,
   "metadata": {},
   "outputs": [
    {
     "name": "stdout",
     "output_type": "stream",
     "text": [
      "create table alyce_giftdata(gift_id integer not null,gift_name varchar,primary key(gift_id))\n"
     ]
    }
   ],
   "source": [
    "#alyce_giftdata\n",
    "query=\"create table alyce_giftdata(\\\n",
    "gift_id integer not null,\\\n",
    "gift_name varchar,\\\n",
    "primary key(gift_id))\"\n",
    "print(query)\n",
    "cur.execute(query)"
   ]
  },
  {
   "cell_type": "code",
   "execution_count": 50,
   "metadata": {},
   "outputs": [
    {
     "name": "stdout",
     "output_type": "stream",
     "text": [
      "create table alyce_clientexpenditure(recipient_id integer not null,client_id integer not null,gift_id integer not null,quantity integer not null,price integer,status varchar,isconverted varchar,foreign key(recipient_id) references alyce_recipient(recipient_id),foreign key(client_id) references alyce_client(client_id),foreign key(gift_id) references alyce_giftdata(gift_id))\n"
     ]
    }
   ],
   "source": [
    "#alyce_clientexpenditure\n",
    "query=\"create table alyce_clientexpenditure(\\\n",
    "recipient_id integer not null,\\\n",
    "client_id integer not null,\\\n",
    "gift_id integer not null,\\\n",
    "quantity integer not null,\\\n",
    "price integer,\\\n",
    "status varchar,\\\n",
    "isconverted varchar,\\\n",
    "foreign key(recipient_id) references alyce_recipient(recipient_id),\\\n",
    "foreign key(client_id) references alyce_client(client_id),\\\n",
    "foreign key(gift_id) references alyce_giftdata(gift_id))\"\n",
    "print(query)\n",
    "cur.execute(query)"
   ]
  },
  {
   "cell_type": "code",
   "execution_count": 51,
   "metadata": {
    "colab": {},
    "colab_type": "code",
    "id": "8KQeuKzWasaE"
   },
   "outputs": [
    {
     "name": "stdout",
     "output_type": "stream",
     "text": [
      "create table alyce_facts(client_id integer not null,service_id integer not null,total_gifts integer,total_amount integer,successful integer,unsuccessful integer,foreign key(client_id) references alyce_client(client_id),foreign key(service_id) references alyce_services(service_id))\n"
     ]
    }
   ],
   "source": [
    "#alyce_facts\n",
    "query=\"create table alyce_facts(\\\n",
    "client_id integer not null,\\\n",
    "service_id integer not null,\\\n",
    "total_gifts integer,\\\n",
    "total_amount integer,\\\n",
    "successful integer,\\\n",
    "unsuccessful integer,\\\n",
    "foreign key(client_id) references alyce_client(client_id),\\\n",
    "foreign key(service_id) references alyce_services(service_id))\"\n",
    "print(query)\n",
    "cur.execute(query)\n"
   ]
  },
  {
   "cell_type": "code",
   "execution_count": 97,
   "metadata": {
    "colab": {},
    "colab_type": "code",
    "id": "NhNFYYBAasaS"
   },
   "outputs": [
    {
     "ename": "ResourceInUseException",
     "evalue": "An error occurred (ResourceInUseException) when calling the CreateStream operation: Stream info7374datastreamalyceteam4 under account 730681287143 already exists.",
     "output_type": "error",
     "traceback": [
      "\u001b[1;31m---------------------------------------------------------------------------\u001b[0m",
      "\u001b[1;31mResourceInUseException\u001b[0m                    Traceback (most recent call last)",
      "\u001b[1;32m<ipython-input-97-87e7d4f395e5>\u001b[0m in \u001b[0;36m<module>\u001b[1;34m\u001b[0m\n\u001b[0;32m      3\u001b[0m \u001b[0mkinesis_client\u001b[0m \u001b[1;33m=\u001b[0m \u001b[0mboto3\u001b[0m\u001b[1;33m.\u001b[0m\u001b[0mclient\u001b[0m\u001b[1;33m(\u001b[0m\u001b[1;34m'kinesis'\u001b[0m\u001b[1;33m,\u001b[0m\u001b[0mregion_name\u001b[0m\u001b[1;33m=\u001b[0m\u001b[1;34m'us-east-1'\u001b[0m\u001b[1;33m,\u001b[0m \u001b[0maws_access_key_id\u001b[0m \u001b[1;33m=\u001b[0m \u001b[0maccess_key\u001b[0m\u001b[1;33m,\u001b[0m \u001b[0maws_secret_access_key\u001b[0m \u001b[1;33m=\u001b[0m \u001b[0msecret_access_key\u001b[0m\u001b[1;33m)\u001b[0m\u001b[1;33m\u001b[0m\u001b[1;33m\u001b[0m\u001b[0m\n\u001b[0;32m      4\u001b[0m \u001b[1;33m\u001b[0m\u001b[0m\n\u001b[1;32m----> 5\u001b[1;33m \u001b[0mresponse_kinesis_data_stream\u001b[0m \u001b[1;33m=\u001b[0m \u001b[0mkinesis_client\u001b[0m\u001b[1;33m.\u001b[0m\u001b[0mcreate_stream\u001b[0m\u001b[1;33m(\u001b[0m\u001b[0mStreamName\u001b[0m\u001b[1;33m=\u001b[0m\u001b[0mkinesis_data_stream_name\u001b[0m\u001b[1;33m,\u001b[0m\u001b[0mShardCount\u001b[0m\u001b[1;33m=\u001b[0m\u001b[0mshard_count\u001b[0m\u001b[1;33m)\u001b[0m\u001b[1;33m\u001b[0m\u001b[1;33m\u001b[0m\u001b[0m\n\u001b[0m\u001b[0;32m      6\u001b[0m \u001b[0mprint\u001b[0m\u001b[1;33m(\u001b[0m\u001b[0mresponse_kinesis_data_stream\u001b[0m\u001b[1;33m)\u001b[0m\u001b[1;33m\u001b[0m\u001b[1;33m\u001b[0m\u001b[0m\n",
      "\u001b[1;32m~\\Anaconda3\\lib\\site-packages\\botocore\\client.py\u001b[0m in \u001b[0;36m_api_call\u001b[1;34m(self, *args, **kwargs)\u001b[0m\n\u001b[0;32m    355\u001b[0m                     \"%s() only accepts keyword arguments.\" % py_operation_name)\n\u001b[0;32m    356\u001b[0m             \u001b[1;31m# The \"self\" in this scope is referring to the BaseClient.\u001b[0m\u001b[1;33m\u001b[0m\u001b[1;33m\u001b[0m\u001b[1;33m\u001b[0m\u001b[0m\n\u001b[1;32m--> 357\u001b[1;33m             \u001b[1;32mreturn\u001b[0m \u001b[0mself\u001b[0m\u001b[1;33m.\u001b[0m\u001b[0m_make_api_call\u001b[0m\u001b[1;33m(\u001b[0m\u001b[0moperation_name\u001b[0m\u001b[1;33m,\u001b[0m \u001b[0mkwargs\u001b[0m\u001b[1;33m)\u001b[0m\u001b[1;33m\u001b[0m\u001b[1;33m\u001b[0m\u001b[0m\n\u001b[0m\u001b[0;32m    358\u001b[0m \u001b[1;33m\u001b[0m\u001b[0m\n\u001b[0;32m    359\u001b[0m         \u001b[0m_api_call\u001b[0m\u001b[1;33m.\u001b[0m\u001b[0m__name__\u001b[0m \u001b[1;33m=\u001b[0m \u001b[0mstr\u001b[0m\u001b[1;33m(\u001b[0m\u001b[0mpy_operation_name\u001b[0m\u001b[1;33m)\u001b[0m\u001b[1;33m\u001b[0m\u001b[1;33m\u001b[0m\u001b[0m\n",
      "\u001b[1;32m~\\Anaconda3\\lib\\site-packages\\botocore\\client.py\u001b[0m in \u001b[0;36m_make_api_call\u001b[1;34m(self, operation_name, api_params)\u001b[0m\n\u001b[0;32m    659\u001b[0m             \u001b[0merror_code\u001b[0m \u001b[1;33m=\u001b[0m \u001b[0mparsed_response\u001b[0m\u001b[1;33m.\u001b[0m\u001b[0mget\u001b[0m\u001b[1;33m(\u001b[0m\u001b[1;34m\"Error\"\u001b[0m\u001b[1;33m,\u001b[0m \u001b[1;33m{\u001b[0m\u001b[1;33m}\u001b[0m\u001b[1;33m)\u001b[0m\u001b[1;33m.\u001b[0m\u001b[0mget\u001b[0m\u001b[1;33m(\u001b[0m\u001b[1;34m\"Code\"\u001b[0m\u001b[1;33m)\u001b[0m\u001b[1;33m\u001b[0m\u001b[1;33m\u001b[0m\u001b[0m\n\u001b[0;32m    660\u001b[0m             \u001b[0merror_class\u001b[0m \u001b[1;33m=\u001b[0m \u001b[0mself\u001b[0m\u001b[1;33m.\u001b[0m\u001b[0mexceptions\u001b[0m\u001b[1;33m.\u001b[0m\u001b[0mfrom_code\u001b[0m\u001b[1;33m(\u001b[0m\u001b[0merror_code\u001b[0m\u001b[1;33m)\u001b[0m\u001b[1;33m\u001b[0m\u001b[1;33m\u001b[0m\u001b[0m\n\u001b[1;32m--> 661\u001b[1;33m             \u001b[1;32mraise\u001b[0m \u001b[0merror_class\u001b[0m\u001b[1;33m(\u001b[0m\u001b[0mparsed_response\u001b[0m\u001b[1;33m,\u001b[0m \u001b[0moperation_name\u001b[0m\u001b[1;33m)\u001b[0m\u001b[1;33m\u001b[0m\u001b[1;33m\u001b[0m\u001b[0m\n\u001b[0m\u001b[0;32m    662\u001b[0m         \u001b[1;32melse\u001b[0m\u001b[1;33m:\u001b[0m\u001b[1;33m\u001b[0m\u001b[1;33m\u001b[0m\u001b[0m\n\u001b[0;32m    663\u001b[0m             \u001b[1;32mreturn\u001b[0m \u001b[0mparsed_response\u001b[0m\u001b[1;33m\u001b[0m\u001b[1;33m\u001b[0m\u001b[0m\n",
      "\u001b[1;31mResourceInUseException\u001b[0m: An error occurred (ResourceInUseException) when calling the CreateStream operation: Stream info7374datastreamalyceteam4 under account 730681287143 already exists."
     ]
    }
   ],
   "source": [
    "#Creating Kinesis Stream:\n",
    "\n",
    "kinesis_client = boto3.client('kinesis',region_name='us-east-1', aws_access_key_id = access_key, aws_secret_access_key = secret_access_key)\n",
    "\n",
    "response_kinesis_data_stream = kinesis_client.create_stream(StreamName=kinesis_data_stream_name,ShardCount=shard_count)\n",
    "print(response_kinesis_data_stream)"
   ]
  },
  {
   "cell_type": "code",
   "execution_count": 98,
   "metadata": {
    "colab": {},
    "colab_type": "code",
    "id": "DytybtO_asaZ"
   },
   "outputs": [
    {
     "name": "stdout",
     "output_type": "stream",
     "text": [
      "{'StreamDescription': {'StreamName': 'info7374datastreamalyceteam4', 'StreamARN': 'arn:aws:kinesis:us-east-1:730681287143:stream/info7374datastreamalyceteam4', 'StreamStatus': 'ACTIVE', 'Shards': [{'ShardId': 'shardId-000000000000', 'HashKeyRange': {'StartingHashKey': '0', 'EndingHashKey': '3402823669209384634633746074317682113'}, 'SequenceNumberRange': {'StartingSequenceNumber': '49597519892371678831354531156200982143467141429100281858'}}, {'ShardId': 'shardId-000000000001', 'HashKeyRange': {'StartingHashKey': '3402823669209384634633746074317682114', 'EndingHashKey': '6805647338418769269267492148635364228'}, 'SequenceNumberRange': {'StartingSequenceNumber': '49597519892393979576553061779342517861739789790606262290'}}, {'ShardId': 'shardId-000000000002', 'HashKeyRange': {'StartingHashKey': '6805647338418769269267492148635364229', 'EndingHashKey': '10208471007628153903901238222953046342'}, 'SequenceNumberRange': {'StartingSequenceNumber': '49597519892416280321751592402484053580012438152112242722'}}, {'ShardId': 'shardId-000000000003', 'HashKeyRange': {'StartingHashKey': '10208471007628153903901238222953046343', 'EndingHashKey': '13611294676837538538534984297270728457'}, 'SequenceNumberRange': {'StartingSequenceNumber': '49597519892438581066950123025625589298285086513618223154'}}, {'ShardId': 'shardId-000000000004', 'HashKeyRange': {'StartingHashKey': '13611294676837538538534984297270728458', 'EndingHashKey': '17014118346046923173168730371588410571'}, 'SequenceNumberRange': {'StartingSequenceNumber': '49597519892460881812148653648767125016557734875124203586'}}, {'ShardId': 'shardId-000000000005', 'HashKeyRange': {'StartingHashKey': '17014118346046923173168730371588410572', 'EndingHashKey': '20416942015256307807802476445906092686'}, 'SequenceNumberRange': {'StartingSequenceNumber': '49597519892483182557347184271908660734830383236630184018'}}, {'ShardId': 'shardId-000000000006', 'HashKeyRange': {'StartingHashKey': '20416942015256307807802476445906092687', 'EndingHashKey': '23819765684465692442436222520223774800'}, 'SequenceNumberRange': {'StartingSequenceNumber': '49597519892505483302545714895050196453103031598136164450'}}, {'ShardId': 'shardId-000000000007', 'HashKeyRange': {'StartingHashKey': '23819765684465692442436222520223774801', 'EndingHashKey': '27222589353675077077069968594541456915'}, 'SequenceNumberRange': {'StartingSequenceNumber': '49597519892527784047744245518191732171375679959642144882'}}, {'ShardId': 'shardId-000000000008', 'HashKeyRange': {'StartingHashKey': '27222589353675077077069968594541456916', 'EndingHashKey': '30625413022884461711703714668859139030'}, 'SequenceNumberRange': {'StartingSequenceNumber': '49597519892550084792942776141333267889648328321148125314'}}, {'ShardId': 'shardId-000000000009', 'HashKeyRange': {'StartingHashKey': '30625413022884461711703714668859139031', 'EndingHashKey': '34028236692093846346337460743176821144'}, 'SequenceNumberRange': {'StartingSequenceNumber': '49597519892572385538141306764474803607920976682654105746'}}, {'ShardId': 'shardId-000000000010', 'HashKeyRange': {'StartingHashKey': '34028236692093846346337460743176821145', 'EndingHashKey': '37431060361303230980971206817494503259'}, 'SequenceNumberRange': {'StartingSequenceNumber': '49597519892594686283339837387616339326193625044160086178'}}, {'ShardId': 'shardId-000000000011', 'HashKeyRange': {'StartingHashKey': '37431060361303230980971206817494503260', 'EndingHashKey': '40833884030512615615604952891812185373'}, 'SequenceNumberRange': {'StartingSequenceNumber': '49597519892616987028538368010757875044466273405666066610'}}, {'ShardId': 'shardId-000000000012', 'HashKeyRange': {'StartingHashKey': '40833884030512615615604952891812185374', 'EndingHashKey': '44236707699722000250238698966129867488'}, 'SequenceNumberRange': {'StartingSequenceNumber': '49597519892639287773736898633899410762738921767172047042'}}, {'ShardId': 'shardId-000000000013', 'HashKeyRange': {'StartingHashKey': '44236707699722000250238698966129867489', 'EndingHashKey': '47639531368931384884872445040447549602'}, 'SequenceNumberRange': {'StartingSequenceNumber': '49597519892661588518935429257040946481011570128678027474'}}, {'ShardId': 'shardId-000000000014', 'HashKeyRange': {'StartingHashKey': '47639531368931384884872445040447549603', 'EndingHashKey': '51042355038140769519506191114765231717'}, 'SequenceNumberRange': {'StartingSequenceNumber': '49597519892683889264133959880182482199284218490184007906'}}, {'ShardId': 'shardId-000000000015', 'HashKeyRange': {'StartingHashKey': '51042355038140769519506191114765231718', 'EndingHashKey': '54445178707350154154139937189082913831'}, 'SequenceNumberRange': {'StartingSequenceNumber': '49597519892706190009332490503324017917556866851689988338'}}, {'ShardId': 'shardId-000000000016', 'HashKeyRange': {'StartingHashKey': '54445178707350154154139937189082913832', 'EndingHashKey': '57848002376559538788773683263400595946'}, 'SequenceNumberRange': {'StartingSequenceNumber': '49597519892371678831354531156200982143467141429100282114'}}, {'ShardId': 'shardId-000000000017', 'HashKeyRange': {'StartingHashKey': '57848002376559538788773683263400595947', 'EndingHashKey': '61250826045768923423407429337718278061'}, 'SequenceNumberRange': {'StartingSequenceNumber': '49597519892393979576553061779342517861739789790606262546'}}, {'ShardId': 'shardId-000000000018', 'HashKeyRange': {'StartingHashKey': '61250826045768923423407429337718278062', 'EndingHashKey': '64653649714978308058041175412035960175'}, 'SequenceNumberRange': {'StartingSequenceNumber': '49597519892416280321751592402484053580012438152112242978'}}, {'ShardId': 'shardId-000000000019', 'HashKeyRange': {'StartingHashKey': '64653649714978308058041175412035960176', 'EndingHashKey': '68056473384187692692674921486353642290'}, 'SequenceNumberRange': {'StartingSequenceNumber': '49597519892438581066950123025625589298285086513618223410'}}, {'ShardId': 'shardId-000000000020', 'HashKeyRange': {'StartingHashKey': '68056473384187692692674921486353642291', 'EndingHashKey': '71459297053397077327308667560671324404'}, 'SequenceNumberRange': {'StartingSequenceNumber': '49597519892460881812148653648767125016557734875124203842'}}, {'ShardId': 'shardId-000000000021', 'HashKeyRange': {'StartingHashKey': '71459297053397077327308667560671324405', 'EndingHashKey': '74862120722606461961942413634989006519'}, 'SequenceNumberRange': {'StartingSequenceNumber': '49597519892483182557347184271908660734830383236630184274'}}, {'ShardId': 'shardId-000000000022', 'HashKeyRange': {'StartingHashKey': '74862120722606461961942413634989006520', 'EndingHashKey': '78264944391815846596576159709306688633'}, 'SequenceNumberRange': {'StartingSequenceNumber': '49597519892505483302545714895050196453103031598136164706'}}, {'ShardId': 'shardId-000000000023', 'HashKeyRange': {'StartingHashKey': '78264944391815846596576159709306688634', 'EndingHashKey': '81667768061025231231209905783624370748'}, 'SequenceNumberRange': {'StartingSequenceNumber': '49597519892527784047744245518191732171375679959642145138'}}, {'ShardId': 'shardId-000000000024', 'HashKeyRange': {'StartingHashKey': '81667768061025231231209905783624370749', 'EndingHashKey': '85070591730234615865843651857942052863'}, 'SequenceNumberRange': {'StartingSequenceNumber': '49597519892550084792942776141333267889648328321148125570'}}, {'ShardId': 'shardId-000000000025', 'HashKeyRange': {'StartingHashKey': '85070591730234615865843651857942052864', 'EndingHashKey': '88473415399444000500477397932259734977'}, 'SequenceNumberRange': {'StartingSequenceNumber': '49597519892572385538141306764474803607920976682654106002'}}, {'ShardId': 'shardId-000000000026', 'HashKeyRange': {'StartingHashKey': '88473415399444000500477397932259734978', 'EndingHashKey': '91876239068653385135111144006577417092'}, 'SequenceNumberRange': {'StartingSequenceNumber': '49597519892594686283339837387616339326193625044160086434'}}, {'ShardId': 'shardId-000000000027', 'HashKeyRange': {'StartingHashKey': '91876239068653385135111144006577417093', 'EndingHashKey': '95279062737862769769744890080895099206'}, 'SequenceNumberRange': {'StartingSequenceNumber': '49597519892616987028538368010757875044466273405666066866'}}, {'ShardId': 'shardId-000000000028', 'HashKeyRange': {'StartingHashKey': '95279062737862769769744890080895099207', 'EndingHashKey': '98681886407072154404378636155212781321'}, 'SequenceNumberRange': {'StartingSequenceNumber': '49597519892639287773736898633899410762738921767172047298'}}, {'ShardId': 'shardId-000000000029', 'HashKeyRange': {'StartingHashKey': '98681886407072154404378636155212781322', 'EndingHashKey': '102084710076281539039012382229530463435'}, 'SequenceNumberRange': {'StartingSequenceNumber': '49597519892661588518935429257040946481011570128678027730'}}, {'ShardId': 'shardId-000000000030', 'HashKeyRange': {'StartingHashKey': '102084710076281539039012382229530463436', 'EndingHashKey': '105487533745490923673646128303848145550'}, 'SequenceNumberRange': {'StartingSequenceNumber': '49597519892683889264133959880182482199284218490184008162'}}, {'ShardId': 'shardId-000000000031', 'HashKeyRange': {'StartingHashKey': '105487533745490923673646128303848145551', 'EndingHashKey': '108890357414700308308279874378165827664'}, 'SequenceNumberRange': {'StartingSequenceNumber': '49597519892706190009332490503324017917556866851689988594'}}, {'ShardId': 'shardId-000000000032', 'HashKeyRange': {'StartingHashKey': '108890357414700308308279874378165827665', 'EndingHashKey': '112293181083909692942913620452483509779'}, 'SequenceNumberRange': {'StartingSequenceNumber': '49597519892371678831354531156200982143467141429100282370'}}, {'ShardId': 'shardId-000000000033', 'HashKeyRange': {'StartingHashKey': '112293181083909692942913620452483509780', 'EndingHashKey': '115696004753119077577547366526801191894'}, 'SequenceNumberRange': {'StartingSequenceNumber': '49597519892393979576553061779342517861739789790606262802'}}, {'ShardId': 'shardId-000000000034', 'HashKeyRange': {'StartingHashKey': '115696004753119077577547366526801191895', 'EndingHashKey': '119098828422328462212181112601118874008'}, 'SequenceNumberRange': {'StartingSequenceNumber': '49597519892416280321751592402484053580012438152112243234'}}, {'ShardId': 'shardId-000000000035', 'HashKeyRange': {'StartingHashKey': '119098828422328462212181112601118874009', 'EndingHashKey': '122501652091537846846814858675436556123'}, 'SequenceNumberRange': {'StartingSequenceNumber': '49597519892438581066950123025625589298285086513618223666'}}, {'ShardId': 'shardId-000000000036', 'HashKeyRange': {'StartingHashKey': '122501652091537846846814858675436556124', 'EndingHashKey': '125904475760747231481448604749754238237'}, 'SequenceNumberRange': {'StartingSequenceNumber': '49597519892460881812148653648767125016557734875124204098'}}, {'ShardId': 'shardId-000000000037', 'HashKeyRange': {'StartingHashKey': '125904475760747231481448604749754238238', 'EndingHashKey': '129307299429956616116082350824071920352'}, 'SequenceNumberRange': {'StartingSequenceNumber': '49597519892483182557347184271908660734830383236630184530'}}, {'ShardId': 'shardId-000000000038', 'HashKeyRange': {'StartingHashKey': '129307299429956616116082350824071920353', 'EndingHashKey': '132710123099166000750716096898389602466'}, 'SequenceNumberRange': {'StartingSequenceNumber': '49597519892505483302545714895050196453103031598136164962'}}, {'ShardId': 'shardId-000000000039', 'HashKeyRange': {'StartingHashKey': '132710123099166000750716096898389602467', 'EndingHashKey': '136112946768375385385349842972707284581'}, 'SequenceNumberRange': {'StartingSequenceNumber': '49597519892527784047744245518191732171375679959642145394'}}, {'ShardId': 'shardId-000000000040', 'HashKeyRange': {'StartingHashKey': '136112946768375385385349842972707284582', 'EndingHashKey': '139515770437584770019983589047024966695'}, 'SequenceNumberRange': {'StartingSequenceNumber': '49597519892550084792942776141333267889648328321148125826'}}, {'ShardId': 'shardId-000000000041', 'HashKeyRange': {'StartingHashKey': '139515770437584770019983589047024966696', 'EndingHashKey': '142918594106794154654617335121342648810'}, 'SequenceNumberRange': {'StartingSequenceNumber': '49597519892572385538141306764474803607920976682654106258'}}, {'ShardId': 'shardId-000000000042', 'HashKeyRange': {'StartingHashKey': '142918594106794154654617335121342648811', 'EndingHashKey': '146321417776003539289251081195660330925'}, 'SequenceNumberRange': {'StartingSequenceNumber': '49597519892594686283339837387616339326193625044160086690'}}, {'ShardId': 'shardId-000000000043', 'HashKeyRange': {'StartingHashKey': '146321417776003539289251081195660330926', 'EndingHashKey': '149724241445212923923884827269978013039'}, 'SequenceNumberRange': {'StartingSequenceNumber': '49597519892616987028538368010757875044466273405666067122'}}, {'ShardId': 'shardId-000000000044', 'HashKeyRange': {'StartingHashKey': '149724241445212923923884827269978013040', 'EndingHashKey': '153127065114422308558518573344295695154'}, 'SequenceNumberRange': {'StartingSequenceNumber': '49597519892639287773736898633899410762738921767172047554'}}, {'ShardId': 'shardId-000000000045', 'HashKeyRange': {'StartingHashKey': '153127065114422308558518573344295695155', 'EndingHashKey': '156529888783631693193152319418613377268'}, 'SequenceNumberRange': {'StartingSequenceNumber': '49597519892661588518935429257040946481011570128678027986'}}, {'ShardId': 'shardId-000000000046', 'HashKeyRange': {'StartingHashKey': '156529888783631693193152319418613377269', 'EndingHashKey': '159932712452841077827786065492931059383'}, 'SequenceNumberRange': {'StartingSequenceNumber': '49597519892683889264133959880182482199284218490184008418'}}, {'ShardId': 'shardId-000000000047', 'HashKeyRange': {'StartingHashKey': '159932712452841077827786065492931059384', 'EndingHashKey': '163335536122050462462419811567248741497'}, 'SequenceNumberRange': {'StartingSequenceNumber': '49597519892706190009332490503324017917556866851689988850'}}, {'ShardId': 'shardId-000000000048', 'HashKeyRange': {'StartingHashKey': '163335536122050462462419811567248741498', 'EndingHashKey': '166738359791259847097053557641566423612'}, 'SequenceNumberRange': {'StartingSequenceNumber': '49597519892371678831354531156200982143467141429100282626'}}, {'ShardId': 'shardId-000000000049', 'HashKeyRange': {'StartingHashKey': '166738359791259847097053557641566423613', 'EndingHashKey': '170141183460469231731687303715884105727'}, 'SequenceNumberRange': {'StartingSequenceNumber': '49597519892393979576553061779342517861739789790606263058'}}, {'ShardId': 'shardId-000000000050', 'HashKeyRange': {'StartingHashKey': '170141183460469231731687303715884105728', 'EndingHashKey': '173544007129678616366321049790201787841'}, 'SequenceNumberRange': {'StartingSequenceNumber': '49597519892416280321751592402484053580012438152112243490'}}, {'ShardId': 'shardId-000000000051', 'HashKeyRange': {'StartingHashKey': '173544007129678616366321049790201787842', 'EndingHashKey': '176946830798888001000954795864519469956'}, 'SequenceNumberRange': {'StartingSequenceNumber': '49597519892438581066950123025625589298285086513618223922'}}, {'ShardId': 'shardId-000000000052', 'HashKeyRange': {'StartingHashKey': '176946830798888001000954795864519469957', 'EndingHashKey': '180349654468097385635588541938837152070'}, 'SequenceNumberRange': {'StartingSequenceNumber': '49597519892460881812148653648767125016557734875124204354'}}, {'ShardId': 'shardId-000000000053', 'HashKeyRange': {'StartingHashKey': '180349654468097385635588541938837152071', 'EndingHashKey': '183752478137306770270222288013154834185'}, 'SequenceNumberRange': {'StartingSequenceNumber': '49597519892483182557347184271908660734830383236630184786'}}, {'ShardId': 'shardId-000000000054', 'HashKeyRange': {'StartingHashKey': '183752478137306770270222288013154834186', 'EndingHashKey': '187155301806516154904856034087472516299'}, 'SequenceNumberRange': {'StartingSequenceNumber': '49597519892505483302545714895050196453103031598136165218'}}, {'ShardId': 'shardId-000000000055', 'HashKeyRange': {'StartingHashKey': '187155301806516154904856034087472516300', 'EndingHashKey': '190558125475725539539489780161790198414'}, 'SequenceNumberRange': {'StartingSequenceNumber': '49597519892527784047744245518191732171375679959642145650'}}, {'ShardId': 'shardId-000000000056', 'HashKeyRange': {'StartingHashKey': '190558125475725539539489780161790198415', 'EndingHashKey': '193960949144934924174123526236107880528'}, 'SequenceNumberRange': {'StartingSequenceNumber': '49597519892550084792942776141333267889648328321148126082'}}, {'ShardId': 'shardId-000000000057', 'HashKeyRange': {'StartingHashKey': '193960949144934924174123526236107880529', 'EndingHashKey': '197363772814144308808757272310425562643'}, 'SequenceNumberRange': {'StartingSequenceNumber': '49597519892572385538141306764474803607920976682654106514'}}, {'ShardId': 'shardId-000000000058', 'HashKeyRange': {'StartingHashKey': '197363772814144308808757272310425562644', 'EndingHashKey': '200766596483353693443391018384743244758'}, 'SequenceNumberRange': {'StartingSequenceNumber': '49597519892594686283339837387616339326193625044160086946'}}, {'ShardId': 'shardId-000000000059', 'HashKeyRange': {'StartingHashKey': '200766596483353693443391018384743244759', 'EndingHashKey': '204169420152563078078024764459060926872'}, 'SequenceNumberRange': {'StartingSequenceNumber': '49597519892616987028538368010757875044466273405666067378'}}, {'ShardId': 'shardId-000000000060', 'HashKeyRange': {'StartingHashKey': '204169420152563078078024764459060926873', 'EndingHashKey': '207572243821772462712658510533378608987'}, 'SequenceNumberRange': {'StartingSequenceNumber': '49597519892639287773736898633899410762738921767172047810'}}, {'ShardId': 'shardId-000000000061', 'HashKeyRange': {'StartingHashKey': '207572243821772462712658510533378608988', 'EndingHashKey': '210975067490981847347292256607696291101'}, 'SequenceNumberRange': {'StartingSequenceNumber': '49597519892661588518935429257040946481011570128678028242'}}, {'ShardId': 'shardId-000000000062', 'HashKeyRange': {'StartingHashKey': '210975067490981847347292256607696291102', 'EndingHashKey': '214377891160191231981926002682013973216'}, 'SequenceNumberRange': {'StartingSequenceNumber': '49597519892683889264133959880182482199284218490184008674'}}, {'ShardId': 'shardId-000000000063', 'HashKeyRange': {'StartingHashKey': '214377891160191231981926002682013973217', 'EndingHashKey': '217780714829400616616559748756331655330'}, 'SequenceNumberRange': {'StartingSequenceNumber': '49597519892706190009332490503324017917556866851689989106'}}, {'ShardId': 'shardId-000000000064', 'HashKeyRange': {'StartingHashKey': '217780714829400616616559748756331655331', 'EndingHashKey': '221183538498610001251193494830649337445'}, 'SequenceNumberRange': {'StartingSequenceNumber': '49597519892371678831354531156200982143467141429100282882'}}, {'ShardId': 'shardId-000000000065', 'HashKeyRange': {'StartingHashKey': '221183538498610001251193494830649337446', 'EndingHashKey': '224586362167819385885827240904967019559'}, 'SequenceNumberRange': {'StartingSequenceNumber': '49597519892393979576553061779342517861739789790606263314'}}, {'ShardId': 'shardId-000000000066', 'HashKeyRange': {'StartingHashKey': '224586362167819385885827240904967019560', 'EndingHashKey': '227989185837028770520460986979284701674'}, 'SequenceNumberRange': {'StartingSequenceNumber': '49597519892416280321751592402484053580012438152112243746'}}, {'ShardId': 'shardId-000000000067', 'HashKeyRange': {'StartingHashKey': '227989185837028770520460986979284701675', 'EndingHashKey': '231392009506238155155094733053602383789'}, 'SequenceNumberRange': {'StartingSequenceNumber': '49597519892438581066950123025625589298285086513618224178'}}, {'ShardId': 'shardId-000000000068', 'HashKeyRange': {'StartingHashKey': '231392009506238155155094733053602383790', 'EndingHashKey': '234794833175447539789728479127920065903'}, 'SequenceNumberRange': {'StartingSequenceNumber': '49597519892460881812148653648767125016557734875124204610'}}, {'ShardId': 'shardId-000000000069', 'HashKeyRange': {'StartingHashKey': '234794833175447539789728479127920065904', 'EndingHashKey': '238197656844656924424362225202237748018'}, 'SequenceNumberRange': {'StartingSequenceNumber': '49597519892483182557347184271908660734830383236630185042'}}, {'ShardId': 'shardId-000000000070', 'HashKeyRange': {'StartingHashKey': '238197656844656924424362225202237748019', 'EndingHashKey': '241600480513866309058995971276555430132'}, 'SequenceNumberRange': {'StartingSequenceNumber': '49597519892505483302545714895050196453103031598136165474'}}, {'ShardId': 'shardId-000000000071', 'HashKeyRange': {'StartingHashKey': '241600480513866309058995971276555430133', 'EndingHashKey': '245003304183075693693629717350873112247'}, 'SequenceNumberRange': {'StartingSequenceNumber': '49597519892527784047744245518191732171375679959642145906'}}, {'ShardId': 'shardId-000000000072', 'HashKeyRange': {'StartingHashKey': '245003304183075693693629717350873112248', 'EndingHashKey': '248406127852285078328263463425190794361'}, 'SequenceNumberRange': {'StartingSequenceNumber': '49597519892550084792942776141333267889648328321148126338'}}, {'ShardId': 'shardId-000000000073', 'HashKeyRange': {'StartingHashKey': '248406127852285078328263463425190794362', 'EndingHashKey': '251808951521494462962897209499508476476'}, 'SequenceNumberRange': {'StartingSequenceNumber': '49597519892572385538141306764474803607920976682654106770'}}, {'ShardId': 'shardId-000000000074', 'HashKeyRange': {'StartingHashKey': '251808951521494462962897209499508476477', 'EndingHashKey': '255211775190703847597530955573826158591'}, 'SequenceNumberRange': {'StartingSequenceNumber': '49597519892594686283339837387616339326193625044160087202'}}, {'ShardId': 'shardId-000000000075', 'HashKeyRange': {'StartingHashKey': '255211775190703847597530955573826158592', 'EndingHashKey': '258614598859913232232164701648143840705'}, 'SequenceNumberRange': {'StartingSequenceNumber': '49597519892616987028538368010757875044466273405666067634'}}, {'ShardId': 'shardId-000000000076', 'HashKeyRange': {'StartingHashKey': '258614598859913232232164701648143840706', 'EndingHashKey': '262017422529122616866798447722461522820'}, 'SequenceNumberRange': {'StartingSequenceNumber': '49597519892639287773736898633899410762738921767172048066'}}, {'ShardId': 'shardId-000000000077', 'HashKeyRange': {'StartingHashKey': '262017422529122616866798447722461522821', 'EndingHashKey': '265420246198332001501432193796779204934'}, 'SequenceNumberRange': {'StartingSequenceNumber': '49597519892661588518935429257040946481011570128678028498'}}, {'ShardId': 'shardId-000000000078', 'HashKeyRange': {'StartingHashKey': '265420246198332001501432193796779204935', 'EndingHashKey': '268823069867541386136065939871096887049'}, 'SequenceNumberRange': {'StartingSequenceNumber': '49597519892683889264133959880182482199284218490184008930'}}, {'ShardId': 'shardId-000000000079', 'HashKeyRange': {'StartingHashKey': '268823069867541386136065939871096887050', 'EndingHashKey': '272225893536750770770699685945414569163'}, 'SequenceNumberRange': {'StartingSequenceNumber': '49597519892706190009332490503324017917556866851689989362'}}, {'ShardId': 'shardId-000000000080', 'HashKeyRange': {'StartingHashKey': '272225893536750770770699685945414569164', 'EndingHashKey': '275628717205960155405333432019732251278'}, 'SequenceNumberRange': {'StartingSequenceNumber': '49597519892371678831354531156200982143467141429100283138'}}, {'ShardId': 'shardId-000000000081', 'HashKeyRange': {'StartingHashKey': '275628717205960155405333432019732251279', 'EndingHashKey': '279031540875169540039967178094049933392'}, 'SequenceNumberRange': {'StartingSequenceNumber': '49597519892393979576553061779342517861739789790606263570'}}, {'ShardId': 'shardId-000000000082', 'HashKeyRange': {'StartingHashKey': '279031540875169540039967178094049933393', 'EndingHashKey': '282434364544378924674600924168367615507'}, 'SequenceNumberRange': {'StartingSequenceNumber': '49597519892416280321751592402484053580012438152112244002'}}, {'ShardId': 'shardId-000000000083', 'HashKeyRange': {'StartingHashKey': '282434364544378924674600924168367615508', 'EndingHashKey': '285837188213588309309234670242685297622'}, 'SequenceNumberRange': {'StartingSequenceNumber': '49597519892438581066950123025625589298285086513618224434'}}, {'ShardId': 'shardId-000000000084', 'HashKeyRange': {'StartingHashKey': '285837188213588309309234670242685297623', 'EndingHashKey': '289240011882797693943868416317002979736'}, 'SequenceNumberRange': {'StartingSequenceNumber': '49597519892460881812148653648767125016557734875124204866'}}, {'ShardId': 'shardId-000000000085', 'HashKeyRange': {'StartingHashKey': '289240011882797693943868416317002979737', 'EndingHashKey': '292642835552007078578502162391320661851'}, 'SequenceNumberRange': {'StartingSequenceNumber': '49597519892483182557347184271908660734830383236630185298'}}, {'ShardId': 'shardId-000000000086', 'HashKeyRange': {'StartingHashKey': '292642835552007078578502162391320661852', 'EndingHashKey': '296045659221216463213135908465638343965'}, 'SequenceNumberRange': {'StartingSequenceNumber': '49597519892505483302545714895050196453103031598136165730'}}, {'ShardId': 'shardId-000000000087', 'HashKeyRange': {'StartingHashKey': '296045659221216463213135908465638343966', 'EndingHashKey': '299448482890425847847769654539956026080'}, 'SequenceNumberRange': {'StartingSequenceNumber': '49597519892527784047744245518191732171375679959642146162'}}, {'ShardId': 'shardId-000000000088', 'HashKeyRange': {'StartingHashKey': '299448482890425847847769654539956026081', 'EndingHashKey': '302851306559635232482403400614273708194'}, 'SequenceNumberRange': {'StartingSequenceNumber': '49597519892550084792942776141333267889648328321148126594'}}, {'ShardId': 'shardId-000000000089', 'HashKeyRange': {'StartingHashKey': '302851306559635232482403400614273708195', 'EndingHashKey': '306254130228844617117037146688591390309'}, 'SequenceNumberRange': {'StartingSequenceNumber': '49597519892572385538141306764474803607920976682654107026'}}, {'ShardId': 'shardId-000000000090', 'HashKeyRange': {'StartingHashKey': '306254130228844617117037146688591390310', 'EndingHashKey': '309656953898054001751670892762909072423'}, 'SequenceNumberRange': {'StartingSequenceNumber': '49597519892594686283339837387616339326193625044160087458'}}, {'ShardId': 'shardId-000000000091', 'HashKeyRange': {'StartingHashKey': '309656953898054001751670892762909072424', 'EndingHashKey': '313059777567263386386304638837226754538'}, 'SequenceNumberRange': {'StartingSequenceNumber': '49597519892616987028538368010757875044466273405666067890'}}, {'ShardId': 'shardId-000000000092', 'HashKeyRange': {'StartingHashKey': '313059777567263386386304638837226754539', 'EndingHashKey': '316462601236472771020938384911544436653'}, 'SequenceNumberRange': {'StartingSequenceNumber': '49597519892639287773736898633899410762738921767172048322'}}, {'ShardId': 'shardId-000000000093', 'HashKeyRange': {'StartingHashKey': '316462601236472771020938384911544436654', 'EndingHashKey': '319865424905682155655572130985862118767'}, 'SequenceNumberRange': {'StartingSequenceNumber': '49597519892661588518935429257040946481011570128678028754'}}, {'ShardId': 'shardId-000000000094', 'HashKeyRange': {'StartingHashKey': '319865424905682155655572130985862118768', 'EndingHashKey': '323268248574891540290205877060179800882'}, 'SequenceNumberRange': {'StartingSequenceNumber': '49597519892683889264133959880182482199284218490184009186'}}, {'ShardId': 'shardId-000000000095', 'HashKeyRange': {'StartingHashKey': '323268248574891540290205877060179800883', 'EndingHashKey': '326671072244100924924839623134497482996'}, 'SequenceNumberRange': {'StartingSequenceNumber': '49597519892706190009332490503324017917556866851689989618'}}, {'ShardId': 'shardId-000000000096', 'HashKeyRange': {'StartingHashKey': '326671072244100924924839623134497482997', 'EndingHashKey': '330073895913310309559473369208815165111'}, 'SequenceNumberRange': {'StartingSequenceNumber': '49597519892371678831354531156200982143467141429100283394'}}, {'ShardId': 'shardId-000000000097', 'HashKeyRange': {'StartingHashKey': '330073895913310309559473369208815165112', 'EndingHashKey': '333476719582519694194107115283132847225'}, 'SequenceNumberRange': {'StartingSequenceNumber': '49597519892393979576553061779342517861739789790606263826'}}, {'ShardId': 'shardId-000000000098', 'HashKeyRange': {'StartingHashKey': '333476719582519694194107115283132847226', 'EndingHashKey': '336879543251729078828740861357450529340'}, 'SequenceNumberRange': {'StartingSequenceNumber': '49597519892416280321751592402484053580012438152112244258'}}, {'ShardId': 'shardId-000000000099', 'HashKeyRange': {'StartingHashKey': '336879543251729078828740861357450529341', 'EndingHashKey': '340282366920938463463374607431768211455'}, 'SequenceNumberRange': {'StartingSequenceNumber': '49597519892438581066950123025625589298285086513618224690'}}], 'HasMoreShards': False, 'RetentionPeriodHours': 24, 'StreamCreationTimestamp': datetime.datetime(2019, 7, 11, 23, 50, 50, tzinfo=tzlocal()), 'EnhancedMonitoring': [{'ShardLevelMetrics': []}], 'EncryptionType': 'NONE'}, 'ResponseMetadata': {'RequestId': 'c288b765-f01b-f614-972a-bf7bc4153428', 'HTTPStatusCode': 200, 'HTTPHeaders': {'x-amzn-requestid': 'c288b765-f01b-f614-972a-bf7bc4153428', 'x-amz-id-2': 'O5QwRMlEfnUBoxN6P2QbN3j545ByzTtAcuZ8OTTCvvuT3kk8GyBuY31N/qTp6UbfESwe57Qw8kWKUbBiRoYWa7apOLppDqsq', 'date': 'Fri, 12 Jul 2019 04:00:30 GMT', 'content-type': 'application/x-amz-json-1.1', 'content-length': '28050'}, 'RetryAttempts': 0}}\n"
     ]
    }
   ],
   "source": [
    "response_kinesis_data_stream_desc = kinesis_client.describe_stream(StreamName=kinesis_data_stream_name)\n",
    "print(response_kinesis_data_stream_desc)"
   ]
  },
  {
   "cell_type": "code",
   "execution_count": 99,
   "metadata": {
    "colab": {},
    "colab_type": "code",
    "id": "E_5ofbc5asae"
   },
   "outputs": [
    {
     "name": "stdout",
     "output_type": "stream",
     "text": [
      "arn:aws:kinesis:us-east-1:730681287143:stream/info7374datastreamalyceteam4\n"
     ]
    }
   ],
   "source": [
    "kinesis_stream_arn = response_kinesis_data_stream_desc['StreamDescription']['StreamARN']#-----------------------Kinesis: Datastream ARN\n",
    "print(kinesis_stream_arn)"
   ]
  },
  {
   "cell_type": "code",
   "execution_count": null,
   "metadata": {
    "colab": {},
    "colab_type": "code",
    "id": "-jz0zdYYasal"
   },
   "outputs": [],
   "source": []
  },
  {
   "cell_type": "code",
   "execution_count": 100,
   "metadata": {
    "colab": {},
    "colab_type": "code",
    "id": "uKt2S8mPasbD"
   },
   "outputs": [
    {
     "name": "stdout",
     "output_type": "stream",
     "text": [
      "jdbc:redshift://info7374clusteralyceteam4.cebdot7camvq.us-east-1.redshift.amazonaws.com:5439/info7374dbalyceteam4\n"
     ]
    }
   ],
   "source": [
    "#Creating Kinesis Delivery Stream: Firehose\n",
    "\n",
    "firehose_client = boto3.client('firehose',region_name='us-east-1',aws_access_key_id = access_key, aws_secret_access_key = secret_access_key)\n",
    "\n",
    "cluster_jdbc_url = \"jdbc:redshift://\"+hostname+\":\"+str(port_number)+\"/\"+db_name\n",
    "print(cluster_jdbc_url)"
   ]
  },
  {
   "cell_type": "code",
   "execution_count": 101,
   "metadata": {},
   "outputs": [],
   "source": [
    "table_name = \"alyce_facts\""
   ]
  },
  {
   "cell_type": "code",
   "execution_count": 102,
   "metadata": {
    "colab": {},
    "colab_type": "code",
    "id": "xF4wOHemasbG"
   },
   "outputs": [
    {
     "name": "stdout",
     "output_type": "stream",
     "text": [
      "{'DeliveryStreamARN': 'arn:aws:firehose:us-east-1:730681287143:deliverystream/info7374deliverystreamalyceteam4', 'ResponseMetadata': {'RequestId': 'd1eeafc6-636d-2f3b-844c-a7f4209ec5f9', 'HTTPStatusCode': 200, 'HTTPHeaders': {'x-amzn-requestid': 'd1eeafc6-636d-2f3b-844c-a7f4209ec5f9', 'x-amz-id-2': 'JCxTQ+4SjgwhIeCAKlnu5xDAtFSYbrlDgn1oqDneKPImegq2+s27Vr+pb9PZ0GenzHX6H3Kqh/7kyI1fTRggYkxPcFYLn3CP', 'content-type': 'application/x-amz-json-1.1', 'content-length': '111', 'date': 'Fri, 12 Jul 2019 04:00:50 GMT'}, 'RetryAttempts': 0}}\n"
     ]
    }
   ],
   "source": [
    "response_firehose = firehose_client.create_delivery_stream(\n",
    "    DeliveryStreamName = delivery_stream_name,\n",
    "    DeliveryStreamType = stream_type,\n",
    "    KinesisStreamSourceConfiguration={\n",
    "        'KinesisStreamARN': kinesis_stream_arn,\n",
    "        'RoleARN': role_arn\n",
    "    },\n",
    "    RedshiftDestinationConfiguration={\n",
    "        'RoleARN': role_arn,\n",
    "        'ClusterJDBCURL': cluster_jdbc_url,\n",
    "        'CopyCommand': {\n",
    "            'DataTableName': table_name,\n",
    "            'DataTableColumns': 'client_id,service_id,total_gifts,total_amount',\n",
    "            'CopyOptions': \"json 'auto'\"\n",
    "        },\n",
    "        'Username': master_username,\n",
    "        'Password': master_password,\n",
    "        'S3Configuration': {\n",
    "            'RoleARN': role_arn,\n",
    "            'BucketARN': bucket_arn,\n",
    "            'BufferingHints': {\n",
    "                'IntervalInSeconds': 60\n",
    "            }\n",
    "        }\n",
    "    })\n",
    "\n",
    "print(response_firehose)"
   ]
  },
  {
   "cell_type": "code",
   "execution_count": 0,
   "metadata": {
    "colab": {},
    "colab_type": "code",
    "id": "fn3h3dQ7asbK"
   },
   "outputs": [],
   "source": [
    "#Cogratulation!!! At this stage we have successfully created our Architacure"
   ]
  },
  {
   "cell_type": "code",
   "execution_count": 103,
   "metadata": {
    "colab": {},
    "colab_type": "code",
    "id": "_yzv_l3yasbN"
   },
   "outputs": [],
   "source": [
    "#Real-time data streaming:\n",
    "\n",
    "kinesis_delivery_client = boto3.client('kinesis', region_name=\"us-east-1\", aws_access_key_id = access_key, aws_secret_access_key = secret_access_key)"
   ]
  },
  {
   "cell_type": "code",
   "execution_count": 0,
   "metadata": {
    "colab": {},
    "colab_type": "code",
    "id": "ElCNeBcAasbP"
   },
   "outputs": [],
   "source": [
    "for i in range(0,20):\n",
    "    now = datetime.datetime.now()\n",
    "    data = {\"player_id\":i,\"player_name\":\"player_\"+str(i),\"event_time\":now.strftime(\"%Y-%m-%d %H:%M\")}\n",
    "    data = json.dumps(data)\n",
    "    data = bytes(data, 'utf-8')\n",
    "    formatted_records = [{'PartitionKey': \"pk\",'Data': data}]\n",
    "    print(formatted_records)\n",
    "    delivery_stream_name = kinesis_data_stream_name\n",
    "    response = kinesis_delivery_client.put_records(StreamName=delivery_stream_name, Records=formatted_records)"
   ]
  },
  {
   "cell_type": "code",
   "execution_count": 0,
   "metadata": {
    "colab": {},
    "colab_type": "code",
    "id": "AUkRlmtXasbR"
   },
   "outputs": [],
   "source": [
    "response"
   ]
  },
  {
   "cell_type": "code",
   "execution_count": 0,
   "metadata": {
    "colab": {},
    "colab_type": "code",
    "id": "5DENAbFmasbU"
   },
   "outputs": [],
   "source": []
  },
  {
   "cell_type": "code",
   "execution_count": 0,
   "metadata": {
    "colab": {},
    "colab_type": "code",
    "id": "90ZghlwWasbW"
   },
   "outputs": [],
   "source": [
    "#Now we will demolish the complete architecture:\n",
    "\n",
    "#Delete Redshift Cluster:\n",
    "response_delete_redshift = redshift_client.delete_cluster(\n",
    "    ClusterIdentifier=cluster_identifier,\n",
    "    SkipFinalClusterSnapshot=True\n",
    ")\n",
    "\n",
    "print(response_delete_redshift)"
   ]
  },
  {
   "cell_type": "code",
   "execution_count": 0,
   "metadata": {
    "colab": {},
    "colab_type": "code",
    "id": "4V5fnwnIasbX"
   },
   "outputs": [],
   "source": [
    "#Delete Kinesis Delivery stream:\n",
    "response_delete_firehose = firehose_client.delete_delivery_stream(DeliveryStreamName=delivery_stream_name)\n",
    "print(response_delete_firehose)"
   ]
  },
  {
   "cell_type": "code",
   "execution_count": 0,
   "metadata": {
    "colab": {},
    "colab_type": "code",
    "id": "gwo4EQQ6asba"
   },
   "outputs": [],
   "source": [
    "#Delete Kinesis Data stream:\n",
    "response_delete_data_stream = kinesis_client.delete_stream(StreamName=kinesis_data_stream_name,EnforceConsumerDeletion=True)\n",
    "print(response_delete_data_stream)"
   ]
  },
  {
   "cell_type": "code",
   "execution_count": 0,
   "metadata": {
    "colab": {},
    "colab_type": "code",
    "id": "1qCU-N4Kasbc"
   },
   "outputs": [],
   "source": [
    "#Delete S3 Bucket:\n",
    "\n",
    "#All of the Objects in a bucket must be deleted before the bucket itself can be deleted:\n",
    "\n",
    "s3 = boto3.resource('s3', aws_access_key_id = access_key, aws_secret_access_key = secret_access_key)\n",
    "bucket = s3.Bucket(bucket_name)\n",
    "\n",
    "for key in bucket.objects.all():\n",
    "    key.delete()\n",
    "bucket.delete()\n",
    "\n",
    "print(\"Bucket deleted successfully!\")"
   ]
  },
  {
   "cell_type": "code",
   "execution_count": 0,
   "metadata": {
    "colab": {},
    "colab_type": "code",
    "id": "otXHXtrIasbe"
   },
   "outputs": [],
   "source": [
    "#Delete IAM Policy:\n",
    "\n"
   ]
  },
  {
   "cell_type": "code",
   "execution_count": 0,
   "metadata": {
    "colab": {},
    "colab_type": "code",
    "id": "EBLvZyLxasbg"
   },
   "outputs": [],
   "source": [
    "#Delete IAM Role:\n",
    "\n",
    "response_detach_policy = iam_client.detach_role_policy(PolicyArn=policy_arn,RoleName=iam_role_name)\n",
    "print(response_detach_policy)\n",
    "\n",
    "response_delete_role = iam_client.delete_role(RoleName=iam_role_name)\n",
    "print(response_delete_role)"
   ]
  },
  {
   "cell_type": "code",
   "execution_count": 0,
   "metadata": {
    "colab": {},
    "colab_type": "code",
    "id": "Fr0cfX4basbi"
   },
   "outputs": [],
   "source": [
    "#Delete IAM Policy:\n",
    "\n",
    "response_delete_policy = iam_client.delete_policy(PolicyArn=policy_arn)\n",
    "print(response_delete_policy)"
   ]
  },
  {
   "cell_type": "code",
   "execution_count": 0,
   "metadata": {
    "colab": {},
    "colab_type": "code",
    "id": "jv-1_F7iasbk"
   },
   "outputs": [],
   "source": []
  }
 ],
 "metadata": {
  "colab": {
   "name": "INFO7374_LAB1.ipynb",
   "provenance": [],
   "version": "0.3.2"
  },
  "kernelspec": {
   "display_name": "Python 3",
   "language": "python",
   "name": "python3"
  },
  "language_info": {
   "codemirror_mode": {
    "name": "ipython",
    "version": 3
   },
   "file_extension": ".py",
   "mimetype": "text/x-python",
   "name": "python",
   "nbconvert_exporter": "python",
   "pygments_lexer": "ipython3",
   "version": "3.7.3"
  }
 },
 "nbformat": 4,
 "nbformat_minor": 1
}
