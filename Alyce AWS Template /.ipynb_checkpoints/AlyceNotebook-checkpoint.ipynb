{
 "cells": [
  {
   "cell_type": "markdown",
   "metadata": {
    "colab": {},
    "colab_type": "code",
    "id": "9npeDcNZasY8"
   },
   "source": [
    "## INFO7374: Digital Marketing Analytics\n",
    "### AWS Analytics Pipeline"
   ]
  },
  {
   "cell_type": "markdown",
   "metadata": {
    "colab": {},
    "colab_type": "code",
    "id": "FDNxLvBVasZE"
   },
   "source": [
    "### Architectural Components:\n",
    " S3 Bucket: https://aws.amazon.com/s3/\n",
    " \n",
    " Kinesis Data Stream: https://aws.amazon.com/kinesis/data-streams/\n",
    " \n",
    " Kinesis Delivery Stream: https://aws.amazon.com/kinesis/data-firehose/\n",
    " \n",
    " Redshift Cluster: https://aws.amazon.com/redshift/\n",
    " \n",
    " IAM Policy: https://aws.amazon.com/iam/\n",
    " \n",
    " IAM Role: https://aws.amazon.com/iam/"
   ]
  },
  {
   "cell_type": "code",
   "execution_count": null,
   "metadata": {
    "colab": {},
    "colab_type": "code",
    "id": "rSDSbmswasZJ"
   },
   "outputs": [],
   "source": [
    "#Importing all required libraries:\n",
    "#pip install boto3\n",
    "#pip install psycopg2\n",
    "\n",
    "import boto3\n",
    "import json\n",
    "import psycopg2\n",
    "import datetime"
   ]
  },
  {
   "cell_type": "code",
   "execution_count": null,
   "metadata": {
    "colab": {},
    "colab_type": "code",
    "id": "79MsgivsasZM"
   },
   "outputs": [],
   "source": [
    "#Setting up the AWS Access keys:\n",
    "#NOTE: DO NOT EXPOSE THE ACCESS & SECRET KEYS\n",
    "\n",
    "config_file = open(r'Config.json')\n",
    "config_file = json.loads(config_file.read())\n",
    "\n",
    "access_key = config_file['access_key']\n",
    "secret_access_key = config_file['secret_access_key']\n"
   ]
  },
  {
   "cell_type": "code",
   "execution_count": null,
   "metadata": {
    "colab": {},
    "colab_type": "code",
    "id": "TqQqt0nqasZP"
   },
   "outputs": [],
   "source": [
    "#Configuration Parameters:\n",
    "\n",
    "bucket_name = \"info7374s3alyceteam4\"#------------------------------------S3: Name of the creating AWS S3 Bucket\n",
    "\n",
    "policy_name = \"info7374policyalyceteam4\"#----------------------------------IAM: Access policy name\n",
    "iam_role_name = \"info7374rolealyceteam4\"#----------------------------------IAM: IAM Role for the architecural access\n",
    "\n",
    "db_name = \"info7374dbalyceteam4\"#-------------------------------------Redshift: Database Name\n",
    "cluster_identifier = \"info7374clusteralyceteam4\"#---------------------Redshift: Redshift Cluster Name\n",
    "master_username = \"root\"#----------------------------------------Redshift: Admin Username\n",
    "master_password = \"Info7374gap\"#---------------------------------Redshift: Admin Password\n",
    "node_type = \"dc2.large\"#-----------------------------------------Redshift: Cluster configuration\n",
    "cluster_type = \"single-node\"#------------------------------------Redshift: Cluster Type\n",
    "availability_zone = \"us-east-1a\"#--------------------------------Redshift: Cluster Availability Zone\n",
    "table_name1 = \"alyce_facts\"#------------------------------------Redshift: Database table name\n",
    "table_name2 = \"alyce_services\"#------------------------------------Redshift: Database table name\n",
    "table_name3 = \"alyce_recipient\"#------------------------------------Redshift: Database table name\n",
    "table_name4 = \"alyce_giftdata\"#------------------------------------Redshift: Database table name\n",
    "table_name5 = \"alyce_clientexpenditure\"#------------------------------------Redshift: Database table name\n",
    "table_name6 = \"alyce_client\"#------------------------------------Redshift: Database table name\n",
    "kinesis_data_stream_name = \"info7374datastreamalyceteam4\"#-------------Kinesis: Data Stream Name\n",
    "shard_count = 100#------------------------------------------------Kinesis: Data Stream Shard Count\n",
    "\n",
    "log_group_name = \"info7374loggroupalyceteam4\"#------------------------CloudWatch: Log Group Name\n",
    "log_stream_name = \"info7374logstreamalyceteam4\"#------------------------CloudWatch: Log Group Name\n",
    "delivery_stream_name = \"info7374deliverystreamalyceteam4\"#--------------Kinesis: Delivery Stream Name\n",
    "stream_type = \"KinesisStreamAsSource\"#-----------------------------Kinesis: Delivery Stream Type\n"
   ]
  },
  {
   "cell_type": "code",
   "execution_count": null,
   "metadata": {
    "colab": {},
    "colab_type": "code",
    "id": "kbdIldnaasZR"
   },
   "outputs": [],
   "source": [
    "#Creating AWS S3 Bucket:\n",
    "\n",
    "s3_client = boto3.client('s3', aws_access_key_id = access_key, aws_secret_access_key = secret_access_key)\n",
    "\n",
    "response_s3 = s3_client.create_bucket(ACL=\"private\", Bucket=bucket_name)\n",
    "print(response_s3)"
   ]
  },
  {
   "cell_type": "code",
   "execution_count": null,
   "metadata": {
    "colab": {},
    "colab_type": "code",
    "id": "n4M6ybhDasZU"
   },
   "outputs": [],
   "source": [
    "bucket_arn = \"arn:aws:s3:::\"+bucket_name#---------------------------S3: Bucker ARN\n",
    "print(bucket_arn)"
   ]
  },
  {
   "cell_type": "code",
   "execution_count": null,
   "metadata": {
    "colab": {},
    "colab_type": "code",
    "id": "TgcR_UDEasZW"
   },
   "outputs": [],
   "source": [
    "#Creating IAM Policy for Architecural access:\n",
    "\n",
    "iam_client = boto3.client('iam', aws_access_key_id = access_key, aws_secret_access_key = secret_access_key)\n"
   ]
  },
  {
   "cell_type": "code",
   "execution_count": null,
   "metadata": {
    "colab": {},
    "colab_type": "code",
    "id": "urPVYJCPasZY"
   },
   "outputs": [],
   "source": [
    "\n",
    "policy_details = {\n",
    "    \"Version\": \"2012-10-17\",\n",
    "    \"Statement\": [\n",
    "        {\n",
    "            \"Sid\": \"\",\n",
    "            \"Effect\": \"Allow\",\n",
    "            \"Action\": [\n",
    "                \"glue:GetTableVersions\"\n",
    "            ],\n",
    "            \"Resource\": \"*\"\n",
    "        },\n",
    "        {\n",
    "            \"Sid\": \"\",\n",
    "            \"Effect\": \"Allow\",\n",
    "            \"Action\": [\n",
    "                \"s3:AbortMultipartUpload\",\n",
    "                \"s3:GetBucketLocation\",\n",
    "                \"s3:GetObject\",\n",
    "                \"s3:ListBucket\",\n",
    "                \"s3:ListBucketMultipartUploads\",\n",
    "                \"s3:PutObject\"\n",
    "            ],\n",
    "            \"Resource\": \"*\"\n",
    "        },\n",
    "        {\n",
    "            \"Sid\": \"\",\n",
    "            \"Effect\": \"Allow\",\n",
    "            \"Action\": [\n",
    "                \"lambda:InvokeFunction\",\n",
    "                \"lambda:GetFunctionConfiguration\"\n",
    "            ],\n",
    "            \"Resource\": \"*\"\n",
    "        },\n",
    "        {\n",
    "            \"Sid\": \"\",\n",
    "            \"Effect\": \"Allow\",\n",
    "            \"Action\": [\n",
    "                \"logs:PutLogEvents\"\n",
    "            ],\n",
    "            \"Resource\": \"*\"\n",
    "        },\n",
    "        {\n",
    "            \"Sid\": \"\",\n",
    "            \"Effect\": \"Allow\",\n",
    "            \"Action\": [\n",
    "                \"kinesis:DescribeStream\",\n",
    "                \"kinesis:GetShardIterator\",\n",
    "                \"kinesis:GetRecords\"\n",
    "            ],\n",
    "            \"Resource\": \"*\"\n",
    "        },\n",
    "        {\n",
    "            \"Effect\": \"Allow\",\n",
    "            \"Action\": [\n",
    "                \"kms:Decrypt\"\n",
    "            ],\n",
    "            \"Resource\": \"*\"\n",
    "        }\n",
    "    ]\n",
    "}"
   ]
  },
  {
   "cell_type": "code",
   "execution_count": null,
   "metadata": {
    "colab": {},
    "colab_type": "code",
    "id": "kzCwXACVasZb"
   },
   "outputs": [],
   "source": [
    "response_iam_policy = iam_client.create_policy(PolicyName=policy_name, PolicyDocument=json.dumps(policy_details))\n",
    "print(response_iam_policy)"
   ]
  },
  {
   "cell_type": "code",
   "execution_count": null,
   "metadata": {
    "colab": {},
    "colab_type": "code",
    "id": "qQQjMyNAasZe"
   },
   "outputs": [],
   "source": [
    "policy_arn = response_iam_policy['Policy']['Arn']#------------------------IAM: Policy ID for assignment\n",
    "print(policy_arn)"
   ]
  },
  {
   "cell_type": "code",
   "execution_count": null,
   "metadata": {
    "colab": {},
    "colab_type": "code",
    "id": "VYgfJyQxasZj"
   },
   "outputs": [],
   "source": [
    "#Creating IAM Role for Architectural access:\n",
    "\n",
    "assume_role_policy_doc = {\n",
    "  \"Version\": \"2012-10-17\",\n",
    "  \"Statement\": [\n",
    "    {\n",
    "      \"Sid\": \"\",\n",
    "      \"Effect\": \"Allow\",\n",
    "      \"Principal\": {\n",
    "        \"Service\": \"firehose.amazonaws.com\"\n",
    "      },\n",
    "      \"Action\": \"sts:AssumeRole\",\n",
    "      \"Condition\": {\n",
    "        \"StringEquals\": {\n",
    "          \"sts:ExternalId\": \"730681287143\"\n",
    "        }\n",
    "      }\n",
    "    }\n",
    "  ]\n",
    "}\n",
    "\n",
    "response_iam_role = iam_client.create_role(RoleName=iam_role_name, AssumeRolePolicyDocument=json.dumps(assume_role_policy_doc))\n",
    "\n",
    "print(response_iam_role)"
   ]
  },
  {
   "cell_type": "code",
   "execution_count": null,
   "metadata": {
    "colab": {},
    "colab_type": "code",
    "id": "PjtT6nWXasZl"
   },
   "outputs": [],
   "source": [
    "role_arn = response_iam_role['Role']['Arn']#----------------------------IAM: Role ARN\n",
    "role_arn"
   ]
  },
  {
   "cell_type": "code",
   "execution_count": null,
   "metadata": {
    "colab": {},
    "colab_type": "code",
    "id": "S1kA4WasasZo"
   },
   "outputs": [],
   "source": [
    "#Attaching a Policy to a Role:\n",
    "\n",
    "response_iam_role_policy_attach = iam_client.attach_role_policy(PolicyArn=policy_arn,RoleName=iam_role_name)\n",
    "print(response_iam_role_policy_attach)"
   ]
  },
  {
   "cell_type": "code",
   "execution_count": null,
   "metadata": {
    "colab": {},
    "colab_type": "code",
    "id": "Qj_i92g7asZr"
   },
   "outputs": [],
   "source": [
    "#Creating AWS Redshift Cluster:\n",
    "\n",
    "redshift_client = boto3.client('redshift',region_name='us-east-1', aws_access_key_id = access_key, aws_secret_access_key = secret_access_key)\n",
    "\n",
    "response_redshift = redshift_client.create_cluster(\n",
    "    DBName=db_name,\n",
    "    ClusterIdentifier=cluster_identifier,\n",
    "    ClusterType=cluster_type,\n",
    "    NodeType=node_type,\n",
    "    MasterUsername=master_username,\n",
    "    MasterUserPassword=master_password,\n",
    "    AvailabilityZone=availability_zone,\n",
    "    IamRoles=[role_arn],\n",
    "    PubliclyAccessible=True)\n",
    "\n",
    "print(response_redshift)"
   ]
  },
  {
   "cell_type": "code",
   "execution_count": null,
   "metadata": {
    "colab": {},
    "colab_type": "code",
    "id": "15SddSDgasZt"
   },
   "outputs": [],
   "source": [
    "#Note: Wait for 5 min to get AWS Redshift cluster to setup as we need to create a Database table."
   ]
  },
  {
   "cell_type": "code",
   "execution_count": null,
   "metadata": {
    "colab": {},
    "colab_type": "code",
    "id": "qrxbSps1asZx"
   },
   "outputs": [],
   "source": [
    "#Describe AWS Redshift Cluster to get an endpoint:\n",
    "\n",
    "response_redshift_desc = redshift_client.describe_clusters(ClusterIdentifier=cluster_identifier)\n",
    "print(response_redshift_desc)"
   ]
  },
  {
   "cell_type": "code",
   "execution_count": null,
   "metadata": {
    "colab": {},
    "colab_type": "code",
    "id": "v6wiSDuQasZz"
   },
   "outputs": [],
   "source": [
    "hostname = response_redshift_desc['Clusters'][0]['Endpoint']['Address']#----------------Redshift: Hostname for database\n",
    "port_number = response_redshift_desc['Clusters'][0]['Endpoint']['Port']#----------------Redshift: Port Number for databse\n",
    "print (hostname)\n",
    "print(port_number)\n"
   ]
  },
  {
   "cell_type": "code",
   "execution_count": null,
   "metadata": {
    "colab": {},
    "colab_type": "code",
    "id": "oK6GgejlasZ7"
   },
   "outputs": [],
   "source": [
    "#Creating Database table on Redshift:\n",
    "\n",
    "con = psycopg2.connect(dbname= db_name, host= hostname, port= port_number, user= master_username, password= master_password)\n",
    "\n",
    "con.set_session(autocommit=True)\n",
    "cur = con.cursor()"
   ]
  },
  {
   "cell_type": "code",
   "execution_count": null,
   "metadata": {
    "colab": {},
    "colab_type": "code",
    "id": "o101Nv5easaA"
   },
   "outputs": [],
   "source": [
    "#alyce_services\n",
    "query = \"create table alyce_services(\\\n",
    "service_id integer not null,\\\n",
    "service_name varchar not null,\\\n",
    "primary key(service_id))\"\n",
    "print(query)"
   ]
  },
  {
   "cell_type": "code",
   "execution_count": null,
   "metadata": {},
   "outputs": [],
   "source": [
    "#alyce_client\n",
    "query = \"create table alyce_client(\\\n",
    "client_id integer not null,\\\n",
    "client_name varchar not null,\\\n",
    "client_sector varchar not null,\\\n",
    "client_city varchar not null,\\\n",
    "client_statecode varchar not null,\\\n",
    "client_zipcode integer not null,\\\n",
    "primary key(client_id))\"\n",
    "print(query)\n",
    "cur.execute(query)"
   ]
  },
  {
   "cell_type": "code",
   "execution_count": null,
   "metadata": {},
   "outputs": [],
   "source": [
    "#alyce_recipient\n",
    "query=\"create table alyce_recipient(\\\n",
    "recipient_id integer not null,\\\n",
    "recipient_name varchar,\\\n",
    "recipient_sector varchar,\\\n",
    "recipient_city varchar,\\\n",
    "recipient_statecode varchar,\\\n",
    "recipient_zipcode integer,\\\n",
    "primary key(recipient_id))\"\n",
    "print(query)\n",
    "cur.execute(query)"
   ]
  },
  {
   "cell_type": "code",
   "execution_count": null,
   "metadata": {},
   "outputs": [],
   "source": [
    "#alyce_giftdata\n",
    "query=\"create table alyce_giftdata(\\\n",
    "gift_id integer not null,\\\n",
    "gift_name varchar,\\\n",
    "primary key(gift_id))\"\n",
    "print(query)\n",
    "cur.execute(query)"
   ]
  },
  {
   "cell_type": "code",
   "execution_count": null,
   "metadata": {},
   "outputs": [],
   "source": [
    "#alyce_clientexpenditure\n",
    "query=\"create table alyce_clientexpenditure(\\\n",
    "recipient_id integer not null,\\\n",
    "client_id integer not null,\\\n",
    "gift_id integer not null,\\\n",
    "quantity integer not null,\\\n",
    "price integer,\\\n",
    "status varchar,\\\n",
    "isconverted varchar,\\\n",
    "foreign key(recipient_id) references alyce_recipient(recipient_id),\\\n",
    "foreign key(client_id) references alyce_client(client_id),\\\n",
    "foreign key(gift_id) references alyce_giftdata(gift_id))\"\n",
    "print(query)\n",
    "cur.execute(query)"
   ]
  },
  {
   "cell_type": "code",
   "execution_count": null,
   "metadata": {
    "colab": {},
    "colab_type": "code",
    "id": "8KQeuKzWasaE"
   },
   "outputs": [],
   "source": [
    "#alyce_facts\n",
    "query=\"create table alyce_facts(\\\n",
    "client_id integer not null,\\\n",
    "service_id integer not null,\\\n",
    "total_gifts integer,\\\n",
    "total_amount integer,\\\n",
    "successful integer,\\\n",
    "unsuccessful integer,\\\n",
    "foreign key(client_id) references alyce_client(client_id),\\\n",
    "foreign key(service_id) references alyce_services(service_id))\"\n",
    "print(query)\n",
    "cur.execute(query)"
   ]
  },
  {
   "cell_type": "code",
   "execution_count": null,
   "metadata": {
    "colab": {},
    "colab_type": "code",
    "id": "NhNFYYBAasaS"
   },
   "outputs": [],
   "source": [
    "#Creating Kinesis Stream:\n",
    "\n",
    "kinesis_client = boto3.client('kinesis',region_name='us-east-1', aws_access_key_id = access_key, aws_secret_access_key = secret_access_key)\n",
    "\n",
    "response_kinesis_data_stream = kinesis_client.create_stream(StreamName=kinesis_data_stream_name,ShardCount=shard_count)\n",
    "print(response_kinesis_data_stream)"
   ]
  },
  {
   "cell_type": "code",
   "execution_count": null,
   "metadata": {
    "colab": {},
    "colab_type": "code",
    "id": "DytybtO_asaZ"
   },
   "outputs": [],
   "source": [
    "response_kinesis_data_stream_desc = kinesis_client.describe_stream(StreamName=kinesis_data_stream_name)\n",
    "print(response_kinesis_data_stream_desc)"
   ]
  },
  {
   "cell_type": "code",
   "execution_count": null,
   "metadata": {
    "colab": {},
    "colab_type": "code",
    "id": "E_5ofbc5asae"
   },
   "outputs": [],
   "source": [
    "kinesis_stream_arn = response_kinesis_data_stream_desc['StreamDescription']['StreamARN']#-----------------------Kinesis: Datastream ARN\n",
    "print(kinesis_stream_arn)"
   ]
  },
  {
   "cell_type": "code",
   "execution_count": null,
   "metadata": {
    "colab": {},
    "colab_type": "code",
    "id": "uKt2S8mPasbD"
   },
   "outputs": [],
   "source": [
    "#Creating Kinesis Delivery Stream: Firehose\n",
    "\n",
    "firehose_client = boto3.client('firehose',region_name='us-east-1',aws_access_key_id = access_key, aws_secret_access_key = secret_access_key)\n",
    "\n",
    "cluster_jdbc_url = \"jdbc:redshift://\"+hostname+\":\"+str(port_number)+\"/\"+db_name\n",
    "print(cluster_jdbc_url)"
   ]
  },
  {
   "cell_type": "code",
   "execution_count": null,
   "metadata": {
    "colab": {},
    "colab_type": "code",
    "id": "xF4wOHemasbG"
   },
   "outputs": [],
   "source": [
    "response_firehose = firehose_client.create_delivery_stream(\n",
    "    DeliveryStreamName = delivery_stream_name,\n",
    "    DeliveryStreamType = stream_type,\n",
    "    KinesisStreamSourceConfiguration={\n",
    "        'KinesisStreamARN': kinesis_stream_arn,\n",
    "        'RoleARN': role_arn\n",
    "    },\n",
    "    RedshiftDestinationConfiguration={\n",
    "        'RoleARN': role_arn,\n",
    "        'ClusterJDBCURL': cluster_jdbc_url,\n",
    "        'CopyCommand': {\n",
    "            'DataTableName': table_name1,\n",
    "            'DataTableColumns': 'client_id,service_id,total_gifts,total_amount',\n",
    "            'CopyOptions': \"json 'auto'\"\n",
    "        },\n",
    "        'Username': master_username,\n",
    "        'Password': master_password,\n",
    "        'S3Configuration': {\n",
    "            'RoleARN': role_arn,\n",
    "            'BucketARN': bucket_arn,\n",
    "            'BufferingHints': {\n",
    "                'IntervalInSeconds': 60\n",
    "            }\n",
    "        }\n",
    "    })\n",
    "\n",
    "print(response_firehose)"
   ]
  },
  {
   "cell_type": "code",
   "execution_count": null,
   "metadata": {},
   "outputs": [],
   "source": [
    "response_firehose = firehose_client.create_delivery_stream(\n",
    "    DeliveryStreamName = delivery_stream_name,\n",
    "    DeliveryStreamType = stream_type,\n",
    "    KinesisStreamSourceConfiguration={\n",
    "        'KinesisStreamARN': kinesis_stream_arn,\n",
    "        'RoleARN': role_arn\n",
    "    },\n",
    "    RedshiftDestinationConfiguration={\n",
    "        'RoleARN': role_arn,\n",
    "        'ClusterJDBCURL': cluster_jdbc_url,\n",
    "        'CopyCommand': {\n",
    "            'DataTableName': table_name2,\n",
    "            'DataTableColumns': 'service_id,service_name',\n",
    "            'CopyOptions': \"json 'auto'\"\n",
    "        },\n",
    "        'Username': master_username,\n",
    "        'Password': master_password,\n",
    "        'S3Configuration': {\n",
    "            'RoleARN': role_arn,\n",
    "            'BucketARN': bucket_arn,\n",
    "            'BufferingHints': {\n",
    "                'IntervalInSeconds': 60\n",
    "            }\n",
    "        }\n",
    "    })\n",
    "\n",
    "print(response_firehose)"
   ]
  },
  {
   "cell_type": "code",
   "execution_count": null,
   "metadata": {},
   "outputs": [],
   "source": [
    "response_firehose = firehose_client.create_delivery_stream(\n",
    "    DeliveryStreamName = delivery_stream_name,\n",
    "    DeliveryStreamType = stream_type,\n",
    "    KinesisStreamSourceConfiguration={\n",
    "        'KinesisStreamARN': kinesis_stream_arn,\n",
    "        'RoleARN': role_arn\n",
    "    },\n",
    "    RedshiftDestinationConfiguration={\n",
    "        'RoleARN': role_arn,\n",
    "        'ClusterJDBCURL': cluster_jdbc_url,\n",
    "        'CopyCommand': {\n",
    "            'DataTableName': table_name3,\n",
    "            'DataTableColumns': 'recipient_id,recipient_name,recipient_sector,recipient_city,recipient_statecode,recipient_zipcode',\n",
    "            'CopyOptions': \"json 'auto'\"\n",
    "        },\n",
    "        'Username': master_username,\n",
    "        'Password': master_password,\n",
    "        'S3Configuration': {\n",
    "            'RoleARN': role_arn,\n",
    "            'BucketARN': bucket_arn,\n",
    "            'BufferingHints': {\n",
    "                'IntervalInSeconds': 60\n",
    "            }\n",
    "        }\n",
    "    })\n",
    "\n",
    "print(response_firehose)"
   ]
  },
  {
   "cell_type": "code",
   "execution_count": null,
   "metadata": {},
   "outputs": [],
   "source": [
    "response_firehose = firehose_client.create_delivery_stream(\n",
    "    DeliveryStreamName = delivery_stream_name,\n",
    "    DeliveryStreamType = stream_type,\n",
    "    KinesisStreamSourceConfiguration={\n",
    "        'KinesisStreamARN': kinesis_stream_arn,\n",
    "        'RoleARN': role_arn\n",
    "    },\n",
    "    RedshiftDestinationConfiguration={\n",
    "        'RoleARN': role_arn,\n",
    "        'ClusterJDBCURL': cluster_jdbc_url,\n",
    "        'CopyCommand': {\n",
    "            'DataTableName': table_name4,\n",
    "            'DataTableColumns': 'gift_id,gift_name',\n",
    "            'CopyOptions': \"json 'auto'\"\n",
    "        },\n",
    "        'Username': master_username,\n",
    "        'Password': master_password,\n",
    "        'S3Configuration': {\n",
    "            'RoleARN': role_arn,\n",
    "            'BucketARN': bucket_arn,\n",
    "            'BufferingHints': {\n",
    "                'IntervalInSeconds': 60\n",
    "            }\n",
    "        }\n",
    "    })\n",
    "\n",
    "print(response_firehose)"
   ]
  },
  {
   "cell_type": "code",
   "execution_count": null,
   "metadata": {},
   "outputs": [],
   "source": [
    "response_firehose = firehose_client.create_delivery_stream(\n",
    "    DeliveryStreamName = delivery_stream_name,\n",
    "    DeliveryStreamType = stream_type,\n",
    "    KinesisStreamSourceConfiguration={\n",
    "        'KinesisStreamARN': kinesis_stream_arn,\n",
    "        'RoleARN': role_arn\n",
    "    },\n",
    "    RedshiftDestinationConfiguration={\n",
    "        'RoleARN': role_arn,\n",
    "        'ClusterJDBCURL': cluster_jdbc_url,\n",
    "        'CopyCommand': {\n",
    "            'DataTableName': table_name5,\n",
    "            'DataTableColumns': 'recipient_id,client_id,gift_id,quantity,price,status,isconverted',\n",
    "            'CopyOptions': \"json 'auto'\"\n",
    "        },\n",
    "        'Username': master_username,\n",
    "        'Password': master_password,\n",
    "        'S3Configuration': {\n",
    "            'RoleARN': role_arn,\n",
    "            'BucketARN': bucket_arn,\n",
    "            'BufferingHints': {\n",
    "                'IntervalInSeconds': 60\n",
    "            }\n",
    "        }\n",
    "    })\n",
    "\n",
    "print(response_firehose)"
   ]
  },
  {
   "cell_type": "code",
   "execution_count": null,
   "metadata": {},
   "outputs": [],
   "source": [
    "response_firehose = firehose_client.create_delivery_stream(\n",
    "    DeliveryStreamName = delivery_stream_name,\n",
    "    DeliveryStreamType = stream_type,\n",
    "    KinesisStreamSourceConfiguration={\n",
    "        'KinesisStreamARN': kinesis_stream_arn,\n",
    "        'RoleARN': role_arn\n",
    "    },\n",
    "    RedshiftDestinationConfiguration={\n",
    "        'RoleARN': role_arn,\n",
    "        'ClusterJDBCURL': cluster_jdbc_url,\n",
    "        'CopyCommand': {\n",
    "            'DataTableName': table_name6,\n",
    "            'DataTableColumns': 'client_id,client_name,client_sector,client_city,client_statecode,client_zipcode',\n",
    "            'CopyOptions': \"json 'auto'\"\n",
    "        },\n",
    "        'Username': master_username,\n",
    "        'Password': master_password,\n",
    "        'S3Configuration': {\n",
    "            'RoleARN': role_arn,\n",
    "            'BucketARN': bucket_arn,\n",
    "            'BufferingHints': {\n",
    "                'IntervalInSeconds': 60\n",
    "            }\n",
    "        }\n",
    "    })\n",
    "\n",
    "print(response_firehose)"
   ]
  },
  {
   "cell_type": "markdown",
   "metadata": {
    "colab": {},
    "colab_type": "code",
    "id": "fn3h3dQ7asbK"
   },
   "source": [
    "### At this stage we have successfully created our Architacure"
   ]
  },
  {
   "cell_type": "code",
   "execution_count": null,
   "metadata": {
    "colab": {},
    "colab_type": "code",
    "id": "_yzv_l3yasbN"
   },
   "outputs": [],
   "source": [
    "#Real-time data streaming:\n",
    "\n",
    "kinesis_delivery_client = boto3.client('kinesis', region_name=\"us-east-1\", aws_access_key_id = access_key, aws_secret_access_key = secret_access_key)"
   ]
  },
  {
   "cell_type": "code",
   "execution_count": null,
   "metadata": {
    "colab": {},
    "colab_type": "code",
    "id": "ElCNeBcAasbP"
   },
   "outputs": [],
   "source": [
    "for i in range(0,20):\n",
    "    now = datetime.datetime.now()\n",
    "    data = {\"player_id\":i,\"player_name\":\"player_\"+str(i),\"event_time\":now.strftime(\"%Y-%m-%d %H:%M\")}\n",
    "    data = json.dumps(data)\n",
    "    data = bytes(data, 'utf-8')\n",
    "    formatted_records = [{'PartitionKey': \"pk\",'Data': data}]\n",
    "    print(formatted_records)\n",
    "    delivery_stream_name = kinesis_data_stream_name\n",
    "    response = kinesis_delivery_client.put_records(StreamName=delivery_stream_name, Records=formatted_records)"
   ]
  },
  {
   "cell_type": "code",
   "execution_count": null,
   "metadata": {
    "colab": {},
    "colab_type": "code",
    "id": "AUkRlmtXasbR"
   },
   "outputs": [],
   "source": [
    "response"
   ]
  },
  {
   "cell_type": "markdown",
   "metadata": {},
   "source": [
    "### Code to demolish the complete architecture:"
   ]
  },
  {
   "cell_type": "code",
   "execution_count": null,
   "metadata": {
    "colab": {},
    "colab_type": "code",
    "id": "90ZghlwWasbW"
   },
   "outputs": [],
   "source": [
    "#Now we will demolish the complete architecture:\n",
    "\n",
    "#Delete Redshift Cluster:\n",
    "response_delete_redshift = redshift_client.delete_cluster(\n",
    "    ClusterIdentifier=cluster_identifier,\n",
    "    SkipFinalClusterSnapshot=True\n",
    ")\n",
    "\n",
    "print(response_delete_redshift)"
   ]
  },
  {
   "cell_type": "code",
   "execution_count": null,
   "metadata": {
    "colab": {},
    "colab_type": "code",
    "id": "4V5fnwnIasbX"
   },
   "outputs": [],
   "source": [
    "#Delete Kinesis Delivery stream:\n",
    "response_delete_firehose = firehose_client.delete_delivery_stream(DeliveryStreamName=delivery_stream_name)\n",
    "print(response_delete_firehose)"
   ]
  },
  {
   "cell_type": "code",
   "execution_count": null,
   "metadata": {
    "colab": {},
    "colab_type": "code",
    "id": "gwo4EQQ6asba"
   },
   "outputs": [],
   "source": [
    "#Delete Kinesis Data stream:\n",
    "response_delete_data_stream = kinesis_client.delete_stream(StreamName=kinesis_data_stream_name,EnforceConsumerDeletion=True)\n",
    "print(response_delete_data_stream)"
   ]
  },
  {
   "cell_type": "code",
   "execution_count": null,
   "metadata": {
    "colab": {},
    "colab_type": "code",
    "id": "1qCU-N4Kasbc"
   },
   "outputs": [],
   "source": [
    "#Delete S3 Bucket:\n",
    "\n",
    "#All of the Objects in a bucket must be deleted before the bucket itself can be deleted:\n",
    "\n",
    "s3 = boto3.resource('s3', aws_access_key_id = access_key, aws_secret_access_key = secret_access_key)\n",
    "bucket = s3.Bucket(bucket_name)\n",
    "\n",
    "for key in bucket.objects.all():\n",
    "    key.delete()\n",
    "bucket.delete()\n",
    "\n",
    "print(\"Bucket deleted successfully!\")"
   ]
  },
  {
   "cell_type": "code",
   "execution_count": null,
   "metadata": {
    "colab": {},
    "colab_type": "code",
    "id": "EBLvZyLxasbg"
   },
   "outputs": [],
   "source": [
    "#Delete IAM Role:\n",
    "\n",
    "response_detach_policy = iam_client.detach_role_policy(PolicyArn=policy_arn,RoleName=iam_role_name)\n",
    "print(response_detach_policy)\n",
    "\n",
    "response_delete_role = iam_client.delete_role(RoleName=iam_role_name)\n",
    "print(response_delete_role)"
   ]
  },
  {
   "cell_type": "code",
   "execution_count": null,
   "metadata": {
    "colab": {},
    "colab_type": "code",
    "id": "Fr0cfX4basbi"
   },
   "outputs": [],
   "source": [
    "#Delete IAM Policy:\n",
    "\n",
    "response_delete_policy = iam_client.delete_policy(PolicyArn=policy_arn)\n",
    "print(response_delete_policy)"
   ]
  }
 ],
 "metadata": {
  "colab": {
   "name": "INFO7374_LAB1.ipynb",
   "provenance": [],
   "version": "0.3.2"
  },
  "kernelspec": {
   "display_name": "Python 3",
   "language": "python",
   "name": "python3"
  },
  "language_info": {
   "codemirror_mode": {
    "name": "ipython",
    "version": 3
   },
   "file_extension": ".py",
   "mimetype": "text/x-python",
   "name": "python",
   "nbconvert_exporter": "python",
   "pygments_lexer": "ipython3",
   "version": "3.6.8"
  }
 },
 "nbformat": 4,
 "nbformat_minor": 1
}
